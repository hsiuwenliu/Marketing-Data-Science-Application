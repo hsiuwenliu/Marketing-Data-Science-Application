{
  "nbformat": 4,
  "nbformat_minor": 0,
  "metadata": {
    "colab": {
      "name": "Python爬蟲 Ch4 Pandas.ipynb",
      "provenance": [],
      "collapsed_sections": [],
      "authorship_tag": "ABX9TyNeEBb4pZdR3TryYppbLuFi",
      "include_colab_link": true
    },
    "kernelspec": {
      "name": "python3",
      "display_name": "Python 3"
    },
    "language_info": {
      "name": "python"
    }
  },
  "cells": [
    {
      "cell_type": "markdown",
      "metadata": {
        "id": "view-in-github",
        "colab_type": "text"
      },
      "source": [
        "<a href=\"https://colab.research.google.com/github/hsiuwenliu/Marketing-Data-Science-Application/blob/master/Python%E7%88%AC%E8%9F%B2_Ch4_Pandas.ipynb\" target=\"_parent\"><img src=\"https://colab.research.google.com/assets/colab-badge.svg\" alt=\"Open In Colab\"/></a>"
      ]
    },
    {
      "cell_type": "code",
      "execution_count": null,
      "metadata": {
        "id": "HT3IcKYmnmHT"
      },
      "outputs": [],
      "source": [
        "# pip install pandas"
      ]
    },
    {
      "cell_type": "code",
      "source": [
        "# ch4_1.py\n",
        "import pandas as pd\n",
        "\n",
        "s1 = pd.Series([11, 22, 33, 44, 55])\n",
        "print(s1)\n",
        "\n"
      ],
      "metadata": {
        "colab": {
          "base_uri": "https://localhost:8080/"
        },
        "id": "AMhOGThpoxYF",
        "outputId": "f94c7bb0-cafe-4e28-a440-df8c31f054ce"
      },
      "execution_count": null,
      "outputs": [
        {
          "output_type": "stream",
          "name": "stdout",
          "text": [
            "0    11\n",
            "1    22\n",
            "2    33\n",
            "3    44\n",
            "4    55\n",
            "dtype: int64\n"
          ]
        }
      ]
    },
    {
      "cell_type": "code",
      "source": [
        "# ch4_2.py\n",
        "import pandas as pd\n",
        "\n",
        "s1 = pd.Series([11, 22, 33, 44, 55])\n",
        "print(s1[1])\n",
        "\n",
        "print(f\"修改前 s1[1]={s1[1]}\")\n",
        "s1[1] = 20\n",
        "print(f\"修改後 s1[1]={s1[1]}\")\n"
      ],
      "metadata": {
        "colab": {
          "base_uri": "https://localhost:8080/"
        },
        "id": "MmK8IkWRo0LV",
        "outputId": "676729f5-d8b8-4225-838d-f6240a3ca229"
      },
      "execution_count": null,
      "outputs": [
        {
          "output_type": "stream",
          "name": "stdout",
          "text": [
            "22\n",
            "修改前 s1[1]=22\n",
            "修改後 s1[1]=20\n"
          ]
        }
      ]
    },
    {
      "cell_type": "code",
      "source": [
        "# ch4_3.py\n",
        "import pandas as pd\n",
        "\n",
        "mydict = {'北京':'Beijing', '東京':'Tokyo'}\n",
        "s2 = pd.Series(mydict)\n",
        "print(f\"{s2[1]}\")\n",
        "\n"
      ],
      "metadata": {
        "colab": {
          "base_uri": "https://localhost:8080/"
        },
        "id": "6o0lZARlo2dR",
        "outputId": "09a9c686-2f10-4bd8-c75c-b117b6422c1e"
      },
      "execution_count": null,
      "outputs": [
        {
          "output_type": "stream",
          "name": "stdout",
          "text": [
            "Tokyo\n"
          ]
        }
      ]
    },
    {
      "cell_type": "code",
      "source": [
        "# ch4_4.py\n",
        "import pandas as pd\n",
        "import numpy as np\n",
        "\n",
        "s3 = pd.Series(np.arange(0, 100, 1))\n",
        "print(f\"{s3[0:10]}\")\n",
        "\n",
        "\n"
      ],
      "metadata": {
        "colab": {
          "base_uri": "https://localhost:8080/"
        },
        "id": "FFKxOkOwo5yE",
        "outputId": "9f0e452a-c7d2-4139-a47d-0a7f97386a85"
      },
      "execution_count": null,
      "outputs": [
        {
          "output_type": "stream",
          "name": "stdout",
          "text": [
            "0    0\n",
            "1    1\n",
            "2    2\n",
            "3    3\n",
            "4    4\n",
            "5    5\n",
            "6    6\n",
            "7    7\n",
            "8    8\n",
            "9    9\n",
            "dtype: int64\n"
          ]
        }
      ]
    },
    {
      "cell_type": "code",
      "source": [
        "# ch4_5.py\n",
        "import pandas as pd\n",
        "\n",
        "myindex = [\"2022/05/01\", \"2022/05/02\", \"2022/05/03\"]\n",
        "price = [100, 200, 300]\n",
        "s4 = pd.Series(price, index=myindex)\n",
        "print(f\"{s4}\")\n",
        "\n",
        "\n"
      ],
      "metadata": {
        "colab": {
          "base_uri": "https://localhost:8080/"
        },
        "id": "n44i9c7eo8qs",
        "outputId": "093c2d25-28a8-4403-c2d5-7cd802ee7539"
      },
      "execution_count": null,
      "outputs": [
        {
          "output_type": "stream",
          "name": "stdout",
          "text": [
            "2022/05/01    100\n",
            "2022/05/02    200\n",
            "2022/05/03    300\n",
            "dtype: int64\n"
          ]
        }
      ]
    },
    {
      "cell_type": "code",
      "source": [
        "# ch4_6.py\n",
        "import pandas as pd\n",
        "\n",
        "fruits = ['Orange', 'Apple', 'Grape']\n",
        "price = [30, 50, 40]\n",
        "s5 = pd.Series(price, index=fruits)\n",
        "print(f\"{s5}\")\n",
        "\n",
        "\n"
      ],
      "metadata": {
        "colab": {
          "base_uri": "https://localhost:8080/"
        },
        "id": "R8oZgGWUo_F7",
        "outputId": "cc7b2e4f-97a4-4553-fa8a-da4f6736bb30"
      },
      "execution_count": null,
      "outputs": [
        {
          "output_type": "stream",
          "name": "stdout",
          "text": [
            "Orange    30\n",
            "Apple     50\n",
            "Grape     40\n",
            "dtype: int64\n"
          ]
        }
      ]
    },
    {
      "cell_type": "code",
      "source": [
        "# ch4_7.py\n",
        "import pandas as pd\n",
        "\n",
        "s6 = pd.Series(9, index=[1, 2, 3])\n",
        "print(f\"{s6}\")\n",
        "\n",
        "\n",
        "\n",
        "      "
      ],
      "metadata": {
        "colab": {
          "base_uri": "https://localhost:8080/"
        },
        "id": "3kbFPKi1pBUe",
        "outputId": "93b34596-a808-47ee-b9f5-d69d6b2fdb74"
      },
      "execution_count": null,
      "outputs": [
        {
          "output_type": "stream",
          "name": "stdout",
          "text": [
            "1    9\n",
            "2    9\n",
            "3    9\n",
            "dtype: int64\n"
          ]
        }
      ]
    },
    {
      "cell_type": "code",
      "source": [
        "# ch4_8.py\n",
        "import pandas as pd\n",
        "\n",
        "s = pd.Series([30, 50, 40], index=['Orange', 'Apple', 'Grape'])\n",
        "print(f\"{s.values}\")\n",
        "print(f\"{s.index}\")\n",
        "print(s)\n",
        "\n"
      ],
      "metadata": {
        "colab": {
          "base_uri": "https://localhost:8080/"
        },
        "id": "KO33EVZxpD1v",
        "outputId": "fa7668f4-83b8-44c7-9cff-efcbd41c5b54"
      },
      "execution_count": null,
      "outputs": [
        {
          "output_type": "stream",
          "name": "stdout",
          "text": [
            "[30 50 40]\n",
            "Index(['Orange', 'Apple', 'Grape'], dtype='object')\n",
            "Orange    30\n",
            "Apple     50\n",
            "Grape     40\n",
            "dtype: int64\n"
          ]
        }
      ]
    },
    {
      "cell_type": "code",
      "source": [
        "# ch4_9.py\n",
        "import pandas as pd\n",
        "\n",
        "s = pd.Series([0, 1, 2, 3, 4, 5])\n",
        "# print(f\"s[2:4] = \\n{s[2:4]}\")\n",
        "# print(f\"s[:3] = \\n{s[:3]}\")\n",
        "# print(f\"s[2:] = \\n{s[2:]}\")\n",
        "# print(f\"s[-1:] = \\n{s[-1:]}\")\n",
        "\n",
        "print(s[0:5])\n"
      ],
      "metadata": {
        "colab": {
          "base_uri": "https://localhost:8080/"
        },
        "id": "_x9lwR22pGKK",
        "outputId": "18f9a7d5-235d-4177-97a8-5243d0dc6d7a"
      },
      "execution_count": null,
      "outputs": [
        {
          "output_type": "stream",
          "name": "stdout",
          "text": [
            "0    0\n",
            "1    1\n",
            "2    2\n",
            "3    3\n",
            "4    4\n",
            "dtype: int64\n"
          ]
        }
      ]
    },
    {
      "cell_type": "code",
      "source": [
        "# ch4_10.py\n",
        "import pandas as pd\n",
        "\n",
        "x = pd.Series([1, 2])\n",
        "y = pd.Series([3, 4])\n",
        "z=x+y\n",
        "print(z)\n",
        "# print(f\"{x + y}\")\n",
        "\n",
        "\n"
      ],
      "metadata": {
        "colab": {
          "base_uri": "https://localhost:8080/"
        },
        "id": "kVa3Eet-pJ4r",
        "outputId": "a3cfe071-eefb-4a12-eb06-7cf00a36e3b0"
      },
      "execution_count": null,
      "outputs": [
        {
          "output_type": "stream",
          "name": "stdout",
          "text": [
            "0    4\n",
            "1    6\n",
            "dtype: int64\n"
          ]
        }
      ]
    },
    {
      "cell_type": "code",
      "source": [
        "# ch4_11.py\n",
        "import pandas as pd\n",
        "\n",
        "x = pd.Series([1, 2])\n",
        "y = pd.Series([3, 4])\n",
        "z=x*y\n",
        "print(f\"{x * y}\")\n",
        "print(z)\n",
        "\n"
      ],
      "metadata": {
        "colab": {
          "base_uri": "https://localhost:8080/"
        },
        "id": "U72n7DgSpLVl",
        "outputId": "5ad77ec7-94a2-4e90-ddcc-34c7ea9bd77b"
      },
      "execution_count": null,
      "outputs": [
        {
          "output_type": "stream",
          "name": "stdout",
          "text": [
            "0    3\n",
            "1    8\n",
            "dtype: int64\n",
            "0    3\n",
            "1    8\n",
            "dtype: int64\n"
          ]
        }
      ]
    },
    {
      "cell_type": "code",
      "source": [
        "# ch4_12.py\n",
        "import pandas as pd\n",
        "\n",
        "x = pd.Series([1, 5, 9])\n",
        "y = pd.Series([2, 4, 8])\n",
        "print(f\"{x > y}\")\n",
        "\n",
        "print(x>y)\n",
        "\n"
      ],
      "metadata": {
        "colab": {
          "base_uri": "https://localhost:8080/"
        },
        "id": "BHRIatSxpOEx",
        "outputId": "5a911b2b-9726-4c7d-af66-037451e072ed"
      },
      "execution_count": null,
      "outputs": [
        {
          "output_type": "stream",
          "name": "stdout",
          "text": [
            "0    False\n",
            "1     True\n",
            "2     True\n",
            "dtype: bool\n",
            "0    False\n",
            "1     True\n",
            "2     True\n",
            "dtype: bool\n"
          ]
        }
      ]
    },
    {
      "cell_type": "code",
      "source": [
        "# ch4_13.py\n",
        "import pandas as pd\n",
        "\n",
        "fruits = ['Orange', 'Apple', 'Grape']\n",
        "x1 = pd.Series([20, 30, 40], index=fruits)\n",
        "x2 = pd.Series([25, 38, 55], index=fruits)\n",
        "y = x1 + x2\n",
        "print(f\"{y}\")\n",
        "\n",
        "\n",
        "\n"
      ],
      "metadata": {
        "colab": {
          "base_uri": "https://localhost:8080/"
        },
        "id": "--spA4xxpQmx",
        "outputId": "dd56cd74-32be-4500-d31c-e9556c52ac84"
      },
      "execution_count": null,
      "outputs": [
        {
          "output_type": "stream",
          "name": "stdout",
          "text": [
            "Orange    45\n",
            "Apple     68\n",
            "Grape     95\n",
            "dtype: int64\n"
          ]
        }
      ]
    },
    {
      "cell_type": "code",
      "source": [
        "# ch4_14.py\n",
        "import pandas as pd\n",
        "\n",
        "fruits1 = ['Orange', 'Apple', 'Grape']\n",
        "fruits2 = ['Orange', 'Banana', 'Grape']\n",
        "x1 = pd.Series([20, 30, 40], index=fruits1)\n",
        "x2 = pd.Series([25, 38, 55], index=fruits2)\n",
        "y = x1 + x2\n",
        "print(f\"{y}\")\n",
        "\n"
      ],
      "metadata": {
        "colab": {
          "base_uri": "https://localhost:8080/"
        },
        "id": "iyLk3KybpTEy",
        "outputId": "824c386d-88b4-4b49-9ba4-72eb6a60ef24"
      },
      "execution_count": null,
      "outputs": [
        {
          "output_type": "stream",
          "name": "stdout",
          "text": [
            "Apple      NaN\n",
            "Banana     NaN\n",
            "Grape     95.0\n",
            "Orange    45.0\n",
            "dtype: float64\n"
          ]
        }
      ]
    },
    {
      "cell_type": "code",
      "source": [
        "# ch4_15.py\n",
        "import pandas as pd\n",
        "\n",
        "fruits = ['Orange', 'Apple', 'Grape']\n",
        "x = pd.Series([20, 30, 40], index=fruits)\n",
        "print(f\"{x['Apple']}\")\n",
        "print('-'*70)\n",
        "print(f\"{x[['Orange','Apple']]}\")\n",
        "print('-'*70)\n",
        "print(f\"{x[['Orange', 'Apple', 'Orange']]}\")\n",
        "\n",
        "      \n"
      ],
      "metadata": {
        "colab": {
          "base_uri": "https://localhost:8080/"
        },
        "id": "FA-Ch2jEpVUu",
        "outputId": "8df2e77a-dde7-4a3f-c57f-c6ef0140943c"
      },
      "execution_count": null,
      "outputs": [
        {
          "output_type": "stream",
          "name": "stdout",
          "text": [
            "30\n",
            "----------------------------------------------------------------------\n",
            "Orange    20\n",
            "Apple     30\n",
            "dtype: int64\n",
            "----------------------------------------------------------------------\n",
            "Orange    20\n",
            "Apple     30\n",
            "Orange    20\n",
            "dtype: int64\n"
          ]
        }
      ]
    },
    {
      "cell_type": "code",
      "source": [
        "# ch4_16.py\n",
        "import pandas as pd\n",
        "import numpy as np\n",
        "\n",
        "\n",
        "fruits = ['Orange', 'Apple', 'Grape']\n",
        "x = pd.Series([20, 30, 40], index=fruits)\n",
        "print((x + 10) * 2)\n",
        "print('-'*70)\n",
        "print(np.sin(x))\n",
        "print(np.cos(x))\n",
        "print(np.exp(np.log(x)))\n",
        "print(np.log(np.exp(x)))\n",
        "      \n"
      ],
      "metadata": {
        "colab": {
          "base_uri": "https://localhost:8080/"
        },
        "id": "def910z6pX92",
        "outputId": "a0400b26-851d-4663-e7ae-ced648afe944"
      },
      "execution_count": null,
      "outputs": [
        {
          "output_type": "stream",
          "name": "stdout",
          "text": [
            "Orange     60\n",
            "Apple      80\n",
            "Grape     100\n",
            "dtype: int64\n",
            "----------------------------------------------------------------------\n",
            "Orange    0.912945\n",
            "Apple    -0.988032\n",
            "Grape     0.745113\n",
            "dtype: float64\n",
            "Orange    0.408082\n",
            "Apple     0.154251\n",
            "Grape    -0.666938\n",
            "dtype: float64\n",
            "Orange    20.0\n",
            "Apple     30.0\n",
            "Grape     40.0\n",
            "dtype: float64\n",
            "Orange    20.0\n",
            "Apple     30.0\n",
            "Grape     40.0\n",
            "dtype: float64\n"
          ]
        }
      ]
    },
    {
      "cell_type": "code",
      "source": [
        "# ch4_17.py\n",
        "import pandas as pd\n",
        "years = range(2020, 2023)\n",
        "beijing = pd.Series([20, 21, 19], index = years)\n",
        "hongkong = pd.Series([25, 26, 27], index = years)\n",
        "singapore = pd.Series([30, 29, 31], index = years)\n",
        "citydf = pd.concat([beijing, hongkong, singapore])  # 預設axis=0\n",
        "print(type(citydf))\n",
        "print(citydf)\n",
        "\n"
      ],
      "metadata": {
        "colab": {
          "base_uri": "https://localhost:8080/"
        },
        "id": "WsLo3NVMpaZJ",
        "outputId": "04b180ed-b59a-42ea-e012-862de21b65e6"
      },
      "execution_count": null,
      "outputs": [
        {
          "output_type": "stream",
          "name": "stdout",
          "text": [
            "<class 'pandas.core.series.Series'>\n",
            "2020    20\n",
            "2021    21\n",
            "2022    19\n",
            "2020    25\n",
            "2021    26\n",
            "2022    27\n",
            "2020    30\n",
            "2021    29\n",
            "2022    31\n",
            "dtype: int64\n"
          ]
        }
      ]
    },
    {
      "cell_type": "code",
      "source": [
        "# ch4_18.py\n",
        "import pandas as pd\n",
        "years = range(2020, 2023)\n",
        "beijing = pd.Series([20, 21, 19], index = years)\n",
        "hongkong = pd.Series([25, 26, 27], index = years)\n",
        "singapore = pd.Series([30, 29, 31], index = years)\n",
        "citydf = pd.concat([beijing, hongkong, singapore],axis=1)  # axis=1\n",
        "print(type(citydf))\n",
        "print(citydf)\n"
      ],
      "metadata": {
        "colab": {
          "base_uri": "https://localhost:8080/"
        },
        "id": "uDnvRxgOpcqH",
        "outputId": "8d96e117-9e3e-4599-9b88-7538f02610cf"
      },
      "execution_count": null,
      "outputs": [
        {
          "output_type": "stream",
          "name": "stdout",
          "text": [
            "<class 'pandas.core.frame.DataFrame'>\n",
            "       0   1   2\n",
            "2020  20  25  30\n",
            "2021  21  26  29\n",
            "2022  19  27  31\n"
          ]
        }
      ]
    },
    {
      "cell_type": "code",
      "source": [
        "# ch4_19.py\n",
        "import pandas as pd\n",
        "years = range(2020, 2023)\n",
        "beijing = pd.Series([20, 21, 19], index = years)\n",
        "hongkong = pd.Series([25, 26, 27], index = years)\n",
        "singapore = pd.Series([30, 29, 31], index = years)\n",
        "citydf = pd.concat([beijing, hongkong, singapore],axis=1)  # axis=1\n",
        "cities = [\"Beijing\", \"HongKong\", \"Singapore\"]\n",
        "citydf.columns = cities\n",
        "print(citydf)\n",
        "print(type(citydf))\n",
        "\n"
      ],
      "metadata": {
        "colab": {
          "base_uri": "https://localhost:8080/"
        },
        "id": "RoQNZvcWpe-Q",
        "outputId": "b31e8cd3-8f75-4f2a-8fb8-7ce5cf8ad107"
      },
      "execution_count": null,
      "outputs": [
        {
          "output_type": "stream",
          "name": "stdout",
          "text": [
            "      Beijing  HongKong  Singapore\n",
            "2020       20        25         30\n",
            "2021       21        26         29\n",
            "2022       19        27         31\n",
            "<class 'pandas.core.frame.DataFrame'>\n"
          ]
        }
      ]
    },
    {
      "cell_type": "code",
      "source": [
        "# ch4_20.py\n",
        "import pandas as pd\n",
        "\n",
        "beijing = pd.Series([20, 21, 19], name='Beijing')\n",
        "print(beijing)\n",
        "\n"
      ],
      "metadata": {
        "colab": {
          "base_uri": "https://localhost:8080/"
        },
        "id": "e4ZFJyCbphEU",
        "outputId": "82ed6d4d-2079-4020-8471-fa7b13d84fe6"
      },
      "execution_count": null,
      "outputs": [
        {
          "output_type": "stream",
          "name": "stdout",
          "text": [
            "0    20\n",
            "1    21\n",
            "2    19\n",
            "Name: Beijing, dtype: int64\n"
          ]
        }
      ]
    },
    {
      "cell_type": "code",
      "source": [
        "# ch4_21.py\n",
        "import pandas as pd\n",
        "years = range(2020, 2023)\n",
        "beijing = pd.Series([20, 21, 19], index = years)\n",
        "hongkong = pd.Series([25, 26, 27], index = years)\n",
        "singapore = pd.Series([30, 29, 31], index = years)\n",
        "beijing.name = \"Beijing\"\n",
        "hongkong.name = \"HongKong\"\n",
        "singapore.name = \"Singapore\"\n",
        "citydf = pd.concat([beijing, hongkong, singapore],axis=1)  \n",
        "print(citydf)\n",
        "print(type(citydf))\n",
        "print(type(beijing))\n",
        "\n"
      ],
      "metadata": {
        "colab": {
          "base_uri": "https://localhost:8080/"
        },
        "id": "7CmAeDb8pj9e",
        "outputId": "01d1900e-4d06-4d9f-f1ba-8cc25935a6b1"
      },
      "execution_count": null,
      "outputs": [
        {
          "output_type": "stream",
          "name": "stdout",
          "text": [
            "      Beijing  HongKong  Singapore\n",
            "2020       20        25         30\n",
            "2021       21        26         29\n",
            "2022       19        27         31\n",
            "<class 'pandas.core.frame.DataFrame'>\n",
            "<class 'pandas.core.series.Series'>\n"
          ]
        }
      ]
    },
    {
      "cell_type": "code",
      "source": [
        "# ch4_22.py\n",
        "import pandas as pd\n",
        "data = [{'apple':50,'Orange':30,'Grape':80},{'apple':50,'Grape':80}]\n",
        "fruits = pd.DataFrame(data)\n",
        "print(fruits)\n",
        "\n"
      ],
      "metadata": {
        "colab": {
          "base_uri": "https://localhost:8080/"
        },
        "id": "XO9MebzEpncr",
        "outputId": "d327873b-29be-483e-83b8-372661935728"
      },
      "execution_count": null,
      "outputs": [
        {
          "output_type": "stream",
          "name": "stdout",
          "text": [
            "   apple  Orange  Grape\n",
            "0     50    30.0     80\n",
            "1     50     NaN     80\n"
          ]
        }
      ]
    },
    {
      "cell_type": "code",
      "source": [
        "# ch4_23.py\n",
        "import pandas as pd\n",
        "cities = {'country':['China', 'Japan', 'Singapore'],\n",
        "          'town':['Beijing','Tokyo','Singapore'],\n",
        "          'population':[2000, 1600, 600]}\n",
        "citydf = pd.DataFrame(cities)\n",
        "print(citydf)\n"
      ],
      "metadata": {
        "colab": {
          "base_uri": "https://localhost:8080/"
        },
        "id": "YJKxnYg8pp4O",
        "outputId": "5bd639e5-190e-4db4-8b82-a31d4d9784ca"
      },
      "execution_count": null,
      "outputs": [
        {
          "output_type": "stream",
          "name": "stdout",
          "text": [
            "     country       town  population\n",
            "0      China    Beijing        2000\n",
            "1      Japan      Tokyo        1600\n",
            "2  Singapore  Singapore         600\n"
          ]
        }
      ]
    },
    {
      "cell_type": "code",
      "source": [
        "# ch4_24.py\n",
        "import pandas as pd\n",
        "cities = {'country':['China', 'Japan', 'Singapore'],\n",
        "          'town':['Beijing','Tokyo','Singapore'],\n",
        "          'population':[2000, 1600, 600]}\n",
        "rowindex = ['first', 'second', 'third']\n",
        "citydf = pd.DataFrame(cities, index=rowindex)\n",
        "print(citydf)\n",
        "\n"
      ],
      "metadata": {
        "colab": {
          "base_uri": "https://localhost:8080/"
        },
        "id": "BT5ned6LpsSm",
        "outputId": "322ff57b-fc6f-4b6e-fe9c-a665d5eca8cb"
      },
      "execution_count": null,
      "outputs": [
        {
          "output_type": "stream",
          "name": "stdout",
          "text": [
            "          country       town  population\n",
            "first       China    Beijing        2000\n",
            "second      Japan      Tokyo        1600\n",
            "third   Singapore  Singapore         600\n"
          ]
        }
      ]
    },
    {
      "cell_type": "code",
      "source": [
        "# ch4_25.py\n",
        "import pandas as pd\n",
        "cities = {'country':['China', 'Japan', 'Singapore'],\n",
        "          'town':['Beijing','Tokyo','Singapore'],\n",
        "          'population':[2000, 1600, 600]}\n",
        "citydf = pd.DataFrame(cities, columns=[\"town\",\"population\"],\n",
        "                      index=cities[\"country\"])\n",
        "print(citydf)\n",
        "\n"
      ],
      "metadata": {
        "colab": {
          "base_uri": "https://localhost:8080/"
        },
        "id": "pWtPxvxppu20",
        "outputId": "2ac7f05f-d4d4-489d-83dd-3b0066ec7d26"
      },
      "execution_count": null,
      "outputs": [
        {
          "output_type": "stream",
          "name": "stdout",
          "text": [
            "                town  population\n",
            "China        Beijing        2000\n",
            "Japan          Tokyo        1600\n",
            "Singapore  Singapore         600\n"
          ]
        }
      ]
    },
    {
      "cell_type": "code",
      "source": [
        "# ch4_26.py\n",
        "import pandas as pd\n",
        "cities = {'Country':['China','China','Thailand','Japan','Singapore'],\n",
        "          'Town':['Beijing','Shanghai','Bangkok', 'Tokyo','Singapore'],\n",
        "          'Population':[2000, 2300, 900, 1600, 600]}\n",
        "df = pd.DataFrame(cities, columns=[\"Town\",\"Population\"],\n",
        "                  index=cities[\"Country\"])\n",
        "print(df)\n",
        "print(\"------------------\")\n",
        "\n",
        "print(df[df['Population']>1000])\n",
        "\n"
      ],
      "metadata": {
        "colab": {
          "base_uri": "https://localhost:8080/"
        },
        "id": "r-ZM3jQqpxFY",
        "outputId": "ad912541-563a-4db4-f4ca-fcb30d0b1818"
      },
      "execution_count": null,
      "outputs": [
        {
          "output_type": "stream",
          "name": "stdout",
          "text": [
            "                Town  Population\n",
            "China        Beijing        2000\n",
            "China       Shanghai        2300\n",
            "Thailand     Bangkok         900\n",
            "Japan          Tokyo        1600\n",
            "Singapore  Singapore         600\n",
            "------------------\n",
            "           Town  Population\n",
            "China   Beijing        2000\n",
            "China  Shanghai        2300\n",
            "Japan     Tokyo        1600\n"
          ]
        }
      ]
    },
    {
      "cell_type": "code",
      "source": [
        "# ch4_27.py\n",
        "import pandas as pd\n",
        "\n",
        "s1 = pd.Series([1, 2, 3])\n",
        "s2 = pd.Series([4, 5, 6])\n",
        "x = s1.mul(s2)\n",
        "print(x)\n",
        "\n",
        "y = s1.div(s2)\n",
        "print(y)\n"
      ],
      "metadata": {
        "colab": {
          "base_uri": "https://localhost:8080/"
        },
        "id": "fVL6xKrSp0mX",
        "outputId": "6315d20d-77af-4d08-df97-f9c526eebb91"
      },
      "execution_count": null,
      "outputs": [
        {
          "output_type": "stream",
          "name": "stdout",
          "text": [
            "0     4\n",
            "1    10\n",
            "2    18\n",
            "dtype: int64\n",
            "0    0.25\n",
            "1    0.40\n",
            "2    0.50\n",
            "dtype: float64\n"
          ]
        }
      ]
    },
    {
      "cell_type": "code",
      "source": [
        "# ch4_28.py\n",
        "import pandas as pd\n",
        "\n",
        "data1 = [{'a':10, 'b':20}, {'a':30, 'b':40}]\n",
        "df1 = pd.DataFrame(data1)\n",
        "data2 = [{'a':1, 'b':2}, {'a':3, 'b':4}]\n",
        "df2 = pd.DataFrame(data2)   \n",
        "print(df1)\n",
        "print(df2)                         \n",
        "x = df1.mul(df2)\n",
        "print(x)\n",
        "\n",
        "y = df1.div(df2)\n",
        "print(y)\n"
      ],
      "metadata": {
        "colab": {
          "base_uri": "https://localhost:8080/"
        },
        "id": "0wYq_U_1p3F0",
        "outputId": "0eeab3b5-4625-4d6c-fa3c-11f75df099f5"
      },
      "execution_count": null,
      "outputs": [
        {
          "output_type": "stream",
          "name": "stdout",
          "text": [
            "    a   b\n",
            "0  10  20\n",
            "1  30  40\n",
            "   a  b\n",
            "0  1  2\n",
            "1  3  4\n",
            "    a    b\n",
            "0  10   40\n",
            "1  90  160\n",
            "      a     b\n",
            "0  10.0  10.0\n",
            "1  10.0  10.0\n"
          ]
        }
      ]
    },
    {
      "cell_type": "code",
      "source": [
        "# ch4_29.py\n",
        "import pandas as pd\n",
        "\n",
        "s1 = pd.Series([1, 5, 9])\n",
        "s2 = pd.Series([2, 4, 8])\n",
        "x = s1.gt(s2)\n",
        "print(x)\n",
        "\n",
        "y = s1.eq(s2)\n",
        "print(y)\n",
        "\n",
        "\n",
        "\n"
      ],
      "metadata": {
        "colab": {
          "base_uri": "https://localhost:8080/"
        },
        "id": "xPomFUhtp5qx",
        "outputId": "9898d4cb-4256-4c54-f475-283bd39944f2"
      },
      "execution_count": null,
      "outputs": [
        {
          "output_type": "stream",
          "name": "stdout",
          "text": [
            "0    False\n",
            "1     True\n",
            "2     True\n",
            "dtype: bool\n",
            "0    False\n",
            "1    False\n",
            "2    False\n",
            "dtype: bool\n"
          ]
        }
      ]
    },
    {
      "cell_type": "code",
      "source": [
        "# ch4_30.py\n",
        "import pandas as pd\n",
        "import numpy as np\n",
        "\n",
        "s = pd.Series([1, 2, 3])\n",
        "x = np.square(s)\n",
        "print(x)\n",
        "logs = np.log(s)\n",
        "print(logs)\n",
        "\n",
        "\n"
      ],
      "metadata": {
        "colab": {
          "base_uri": "https://localhost:8080/"
        },
        "id": "XvosKxWyp78c",
        "outputId": "027c1da8-910f-48fe-b85f-67deecb9e7b2"
      },
      "execution_count": null,
      "outputs": [
        {
          "output_type": "stream",
          "name": "stdout",
          "text": [
            "0    1\n",
            "1    4\n",
            "2    9\n",
            "dtype: int64\n",
            "0    0.000000\n",
            "1    0.693147\n",
            "2    1.098612\n",
            "dtype: float64\n"
          ]
        }
      ]
    },
    {
      "cell_type": "code",
      "source": [
        "# ch4_31.py\n",
        "import pandas as pd\n",
        "import numpy as np\n",
        "name = ['Frank', 'Peter', 'John']\n",
        "score = ['first', 'second', 'final']\n",
        "df = pd.DataFrame(np.random.randint(60,100,size=(3,3)),\n",
        "                  columns=name,\n",
        "                  index=score)\n",
        "df = pd.DataFrame(np.random.randint(60,100,size=(10,10)))\n",
        "print(df)\n"
      ],
      "metadata": {
        "colab": {
          "base_uri": "https://localhost:8080/"
        },
        "id": "rYekvj0Sp-Ii",
        "outputId": "bfebe979-45e4-482b-e673-9ea2455c4adf"
      },
      "execution_count": null,
      "outputs": [
        {
          "output_type": "stream",
          "name": "stdout",
          "text": [
            "    0   1   2   3   4   5   6   7   8   9\n",
            "0  74  71  65  81  92  66  99  96  64  90\n",
            "1  85  72  94  84  77  60  93  71  92  99\n",
            "2  68  89  72  65  73  66  77  99  87  84\n",
            "3  75  94  93  92  72  79  93  61  72  85\n",
            "4  83  96  88  85  63  94  60  93  82  86\n",
            "5  79  90  66  80  75  79  92  74  78  83\n",
            "6  88  86  78  75  62  79  75  78  88  82\n",
            "7  68  94  84  99  60  64  87  77  74  80\n",
            "8  81  68  76  70  89  95  72  99  88  66\n",
            "9  87  90  63  78  60  97  72  72  97  85\n"
          ]
        }
      ]
    },
    {
      "cell_type": "code",
      "source": [
        "# ch4_32.py\n",
        "import pandas as pd\n",
        "import numpy as np\n",
        "\n",
        "s1 = pd.Series([1, np.nan, 5])\n",
        "s2 = pd.Series([np.nan, 6, 8])\n",
        "print(s1)\n",
        "print(s2)\n",
        "x = s1.add(s2)\n",
        "print(x)\n"
      ],
      "metadata": {
        "colab": {
          "base_uri": "https://localhost:8080/"
        },
        "id": "tmxZICNLqAX2",
        "outputId": "7e6af311-d0dd-4aff-b0bb-0e39638d6c11"
      },
      "execution_count": null,
      "outputs": [
        {
          "output_type": "stream",
          "name": "stdout",
          "text": [
            "0    1.0\n",
            "1    NaN\n",
            "2    5.0\n",
            "dtype: float64\n",
            "0    NaN\n",
            "1    6.0\n",
            "2    8.0\n",
            "dtype: float64\n",
            "0     NaN\n",
            "1     NaN\n",
            "2    13.0\n",
            "dtype: float64\n"
          ]
        }
      ]
    },
    {
      "cell_type": "code",
      "source": [
        "# ch4_33.py\n",
        "import pandas as pd\n",
        "import numpy as np\n",
        "\n",
        "df = pd.DataFrame([[1, 2, 3], [4, np.nan, 6], [7, 8, np.nan]])\n",
        "print(df)\n",
        "print(\"-\"*70)\n",
        "x = df.isna()\n",
        "print(x)\n",
        "print(\"-\"*70)\n",
        "y = df.notna()\n",
        "print(y)\n",
        "\n"
      ],
      "metadata": {
        "colab": {
          "base_uri": "https://localhost:8080/"
        },
        "id": "1SaXp3foqC5I",
        "outputId": "f24ae813-22af-47b9-d2c7-6ca0e1cd6f58"
      },
      "execution_count": null,
      "outputs": [
        {
          "output_type": "stream",
          "name": "stdout",
          "text": [
            "   0    1    2\n",
            "0  1  2.0  3.0\n",
            "1  4  NaN  6.0\n",
            "2  7  8.0  NaN\n",
            "----------------------------------------------------------------------\n",
            "       0      1      2\n",
            "0  False  False  False\n",
            "1  False   True  False\n",
            "2  False  False   True\n",
            "----------------------------------------------------------------------\n",
            "      0      1      2\n",
            "0  True   True   True\n",
            "1  True  False   True\n",
            "2  True   True  False\n"
          ]
        }
      ]
    },
    {
      "cell_type": "code",
      "source": [
        "# ch4_34.py\n",
        "import pandas as pd\n",
        "import numpy as np\n",
        "\n",
        "df = pd.DataFrame([[1, 2, 3], [4, np.nan, 6], [7, 8, np.nan]])\n",
        "z = df.fillna(0)\n",
        "print(z)\n"
      ],
      "metadata": {
        "colab": {
          "base_uri": "https://localhost:8080/"
        },
        "id": "5XupXxIrqGIC",
        "outputId": "5778fce9-b8ed-4ce0-81de-e47af65d5142"
      },
      "execution_count": null,
      "outputs": [
        {
          "output_type": "stream",
          "name": "stdout",
          "text": [
            "   0    1    2\n",
            "0  1  2.0  3.0\n",
            "1  4  0.0  6.0\n",
            "2  7  8.0  0.0\n"
          ]
        }
      ]
    },
    {
      "cell_type": "code",
      "source": [
        "# ch4_35.py\n",
        "import pandas as pd\n",
        "import numpy as np\n",
        "\n",
        "df = pd.DataFrame([[1, 2, 3], [4, np.nan, 6], [7, 8, np.nan]])\n",
        "x = df.dropna(0)\n",
        "print(df)\n",
        "print(\"-------------------\")\n",
        "print(x)\n"
      ],
      "metadata": {
        "colab": {
          "base_uri": "https://localhost:8080/"
        },
        "id": "-tEdWxX_qIQo",
        "outputId": "64fc5c83-28a1-4e10-c245-94d1fd708999"
      },
      "execution_count": null,
      "outputs": [
        {
          "output_type": "stream",
          "name": "stdout",
          "text": [
            "   0    1    2\n",
            "0  1  2.0  3.0\n",
            "1  4  NaN  6.0\n",
            "2  7  8.0  NaN\n",
            "-------------------\n",
            "   0    1    2\n",
            "0  1  2.0  3.0\n"
          ]
        },
        {
          "output_type": "stream",
          "name": "stderr",
          "text": [
            "/usr/local/lib/python3.7/dist-packages/ipykernel_launcher.py:6: FutureWarning: In a future version of pandas all arguments of DataFrame.dropna will be keyword-only\n",
            "  \n"
          ]
        }
      ]
    },
    {
      "cell_type": "code",
      "source": [
        "# ch4_36.py\n",
        "import pandas as pd\n",
        "import numpy as np\n",
        "\n",
        "df = pd.DataFrame([[1, 2, 3], [4, np.nan, 6], [7, 8, np.nan]])\n",
        "x = df.dropna(axis='columns')\n",
        "print(df)\n",
        "print(\"------------------\")\n",
        "print(x)\n"
      ],
      "metadata": {
        "colab": {
          "base_uri": "https://localhost:8080/"
        },
        "id": "6W6AhZ9VqKj_",
        "outputId": "3fbda4bc-0727-4b5d-ddb1-f214b73fb27b"
      },
      "execution_count": null,
      "outputs": [
        {
          "output_type": "stream",
          "name": "stdout",
          "text": [
            "   0    1    2\n",
            "0  1  2.0  3.0\n",
            "1  4  NaN  6.0\n",
            "2  7  8.0  NaN\n",
            "------------------\n",
            "   0\n",
            "0  1\n",
            "1  4\n",
            "2  7\n"
          ]
        }
      ]
    },
    {
      "cell_type": "code",
      "source": [
        "# ch4_37.py\n",
        "import pandas as pd\n",
        "cities = {'Country':['China','China','Thailand','Japan','Singapore'],\n",
        "          'Town':['Beijing','Shanghai','Bangkok', 'Tokyo','Singapore'],\n",
        "          'Population':[2000, 2300, 900, 1600, 600]}\n",
        "df = pd.DataFrame(cities, columns=[\"Town\",\"Population\"],\n",
        "                  index=cities[\"Country\"])\n",
        "print(df)\n",
        "print('-'*70)\n",
        "total = df['Population'].sum()\n",
        "print('人口總計 \"', total)\n",
        "print('-'*70)\n",
        "print('累積人口總計')\n",
        "cum_total = df['Population'].cumsum()\n",
        "print(cum_total)\n"
      ],
      "metadata": {
        "colab": {
          "base_uri": "https://localhost:8080/"
        },
        "id": "Hr6NSj_gqMzZ",
        "outputId": "2b520ee5-5817-4151-a0e7-a7f6b76cbc12"
      },
      "execution_count": null,
      "outputs": [
        {
          "output_type": "stream",
          "name": "stdout",
          "text": [
            "                Town  Population\n",
            "China        Beijing        2000\n",
            "China       Shanghai        2300\n",
            "Thailand     Bangkok         900\n",
            "Japan          Tokyo        1600\n",
            "Singapore  Singapore         600\n",
            "----------------------------------------------------------------------\n",
            "人口總計 \" 7400\n",
            "----------------------------------------------------------------------\n",
            "累積人口總計\n",
            "China        2000\n",
            "China        4300\n",
            "Thailand     5200\n",
            "Japan        6800\n",
            "Singapore    7400\n",
            "Name: Population, dtype: int64\n"
          ]
        }
      ]
    },
    {
      "cell_type": "code",
      "source": [
        "# ch4_38.py\n",
        "import pandas as pd\n",
        "cities = {'Country':['China','China','Thailand','Japan','Singapore'],\n",
        "          'Town':['Beijing','Shanghai','Bangkok', 'Tokyo','Singapore'],\n",
        "          'Population':[2000, 2300, 900, 1600, 600]}\n",
        "df = pd.DataFrame(cities, columns=[\"Town\",\"Population\"],\n",
        "                  index=cities[\"Country\"])\n",
        "\n",
        "x = df['Population'].cumsum()\n",
        "df['Cum_Population'] = x\n",
        "print(df)\n"
      ],
      "metadata": {
        "colab": {
          "base_uri": "https://localhost:8080/"
        },
        "id": "AbJ5QlRDqPPR",
        "outputId": "19621d53-545b-4fe2-87ea-c4c0d7cbc3af"
      },
      "execution_count": null,
      "outputs": [
        {
          "output_type": "stream",
          "name": "stdout",
          "text": [
            "                Town  Population  Cum_Population\n",
            "China        Beijing        2000            2000\n",
            "China       Shanghai        2300            4300\n",
            "Thailand     Bangkok         900            5200\n",
            "Japan          Tokyo        1600            6800\n",
            "Singapore  Singapore         600            7400\n"
          ]
        }
      ]
    },
    {
      "cell_type": "code",
      "source": [
        "# ch4_39.py\n",
        "import pandas as pd\n",
        "cities = {'Country':['China','China','Thailand','Japan','Singapore'],\n",
        "          'Town':['Beijing','Shanghai','Bangkok', 'Tokyo','Singapore'],\n",
        "          'Population':[2000, 2300, 900, 1600, 600]}\n",
        "df = pd.DataFrame(cities, columns=[\"Town\",\"Population\"],\n",
        "                  index=cities[\"Country\"])\n",
        "\n",
        "print('最多人口數 ', df['Population'].max())\n",
        "print('最少人口數 ', df['Population'].min())\n",
        "\n"
      ],
      "metadata": {
        "colab": {
          "base_uri": "https://localhost:8080/"
        },
        "id": "cqoVXtKXqSZ9",
        "outputId": "43fb9714-bffa-4757-8065-c52bf2e75bd9"
      },
      "execution_count": null,
      "outputs": [
        {
          "output_type": "stream",
          "name": "stdout",
          "text": [
            "最多人口數  2300\n",
            "最少人口數  600\n"
          ]
        }
      ]
    },
    {
      "cell_type": "code",
      "source": [
        "# ch4_50.py\n",
        "import pandas as pd\n",
        "\n",
        "course = ['Chinese', 'English', 'Math', 'Natural', 'Society']\n",
        "chinese = [14, 12, 13, 10, 13]\n",
        "eng = [13, 14, 11, 10, 15]\n",
        "math = [15, 9, 12, 8, 15]\n",
        "nature = [15, 10, 13, 10, 15]\n",
        "social = [12, 11, 14, 9, 14]\n",
        "\n",
        "df = pd.DataFrame([chinese, eng, math, nature, social],\n",
        "                  columns = course,\n",
        "                  index = range(1,6))\n",
        "df.to_csv(\"out4_50a.csv\")\n",
        "df.to_csv(\"out4_50aa.csv\", header=\"T\", index=False)\n",
        "df.to_csv(\"out4_50b.csv\", header=False, index=False)\n",
        "df.to_csv(\"out4_50c.csv\", index=False)"
      ],
      "metadata": {
        "id": "RR2aBptMoX_j"
      },
      "execution_count": null,
      "outputs": []
    },
    {
      "cell_type": "code",
      "source": [
        "# ch4_51.py\n",
        "import pandas as pd\n",
        "\n",
        "course = ['Chinese', 'English', 'Math', 'Natural', 'Society']\n",
        "x = pd.read_csv(\"out4_50a.csv\",index_col=0)\n",
        "\n",
        "y = pd.read_csv(\"out4_50b.csv\", names = course)\n",
        "print(x)\n",
        "print(y)"
      ],
      "metadata": {
        "colab": {
          "base_uri": "https://localhost:8080/"
        },
        "id": "no8gVomPppq6",
        "outputId": "5b502f74-e666-4aa2-9f46-4a788db390d6"
      },
      "execution_count": null,
      "outputs": [
        {
          "output_type": "stream",
          "name": "stdout",
          "text": [
            "   Chinese  English  Math  Natural  Society\n",
            "1       14       12    13       10       13\n",
            "2       13       14    11       10       15\n",
            "3       15        9    12        8       15\n",
            "4       15       10    13       10       15\n",
            "5       12       11    14        9       14\n",
            "   Chinese  English  Math  Natural  Society\n",
            "0       14       12    13       10       13\n",
            "1       13       14    11       10       15\n",
            "2       15        9    12        8       15\n",
            "3       15       10    13       10       15\n",
            "4       12       11    14        9       14\n"
          ]
        }
      ]
    },
    {
      "cell_type": "code",
      "source": [
        "# ch4_52.py\n",
        "import pandas as pd\n",
        "import matplotlib.pyplot as plt\n",
        "\n",
        "population = [860, 1100, 1450, 1800, 2020, 2200, 2260]\n",
        "tw = pd.Series(population, index=range(1950, 2011, 10))\n",
        "print(tw)\n",
        "\n",
        "tw.plot(title='Population in Taiwan')\n",
        "plt.xlabel(\"Year\")\n",
        "plt.ylabel(\"Population\")\n",
        "plt.show()\n"
      ],
      "metadata": {
        "colab": {
          "base_uri": "https://localhost:8080/",
          "height": 434
        },
        "id": "cy1gRLIXpuJN",
        "outputId": "528e8430-4268-45c4-bdae-c38c0a631b14"
      },
      "execution_count": null,
      "outputs": [
        {
          "output_type": "stream",
          "name": "stdout",
          "text": [
            "1950     860\n",
            "1960    1100\n",
            "1970    1450\n",
            "1980    1800\n",
            "1990    2020\n",
            "2000    2200\n",
            "2010    2260\n",
            "dtype: int64\n"
          ]
        },
        {
          "output_type": "display_data",
          "data": {
            "text/plain": [
              "<Figure size 432x288 with 1 Axes>"
            ],
            "image/png": "[encoded data removed]"
          },
          "metadata": {
            "needs_background": "light"
          }
        }
      ]
    },
    {
      "cell_type": "code",
      "source": [
        "# ch4_53.py\n",
        "import pandas as pd\n",
        "import matplotlib.pyplot as plt\n",
        "\n",
        "cities = {'population':[1000, 850, 800, 1500, 600, 800],\n",
        "          'town':['New York','Chicago','Bangkok','Tokyo',\n",
        "                   'Singapore','HongKong']}\n",
        "tw = pd.DataFrame(cities, columns=['population'],index=cities['town'])\n",
        "print(tw)\n",
        "          \n",
        "tw.plot(title='Population in the World')\n",
        "plt.xlabel('City')\n",
        "plt.ylabel(\"Population\")\n",
        "plt.show()"
      ],
      "metadata": {
        "colab": {
          "base_uri": "https://localhost:8080/",
          "height": 416
        },
        "id": "MEAAiutyp15F",
        "outputId": "8b418587-f379-4819-8e3b-ad75549a60db"
      },
      "execution_count": null,
      "outputs": [
        {
          "output_type": "stream",
          "name": "stdout",
          "text": [
            "           population\n",
            "New York         1000\n",
            "Chicago           850\n",
            "Bangkok           800\n",
            "Tokyo            1500\n",
            "Singapore         600\n",
            "HongKong          800\n"
          ]
        },
        {
          "output_type": "display_data",
          "data": {
            "text/plain": [
              "<Figure size 432x288 with 1 Axes>"
            ],
            "image/png": "[encoded data removed]"
          },
          "metadata": {
            "needs_background": "light"
          }
        }
      ]
    },
    {
      "cell_type": "code",
      "source": [
        "# ch4_54.py\n",
        "import pandas as pd\n",
        "import matplotlib.pyplot as plt\n",
        "\n",
        "cities = {'population':[1000, 850, 800, 1500, 600, 800],\n",
        "          'town':['New York','Chicago','Bangkok','Tokyo',\n",
        "                   'Singapore','HongKong']}\n",
        "tw = pd.DataFrame(cities, columns=['population'],index=cities['town'])\n",
        "          \n",
        "tw.plot(title='Population in the World',kind='bar')\n",
        "plt.xlabel('City')\n",
        "plt.ylabel(\"Population\")\n",
        "plt.show()"
      ],
      "metadata": {
        "colab": {
          "base_uri": "https://localhost:8080/",
          "height": 336
        },
        "id": "MTOSy1BYp7pT",
        "outputId": "5db35c6a-87df-43fb-88fa-8190c1f33b4d"
      },
      "execution_count": null,
      "outputs": [
        {
          "output_type": "display_data",
          "data": {
            "text/plain": [
              "<Figure size 432x288 with 1 Axes>"
            ],
            "image/png": "[encoded data removed]"
          },
          "metadata": {
            "needs_background": "light"
          }
        }
      ]
    },
    {
      "cell_type": "code",
      "source": [
        "# ch4_55.py\n",
        "import pandas as pd\n",
        "import matplotlib.pyplot as plt\n",
        "\n",
        "cities = {'population':[1000, 850, 800, 1500, 600, 800],\n",
        "          'area':[400, 500, 850, 300, 200, 320],\n",
        "          'town':['New York','Chicago','Bangkok','Tokyo',\n",
        "                   'Singapore','HongKong']}\n",
        "tw = pd.DataFrame(cities, columns=['population','area'],index=cities['town'])\n",
        "          \n",
        "tw.plot(title='Population in the World')\n",
        "plt.xlabel('City')\n",
        "plt.show()"
      ],
      "metadata": {
        "colab": {
          "base_uri": "https://localhost:8080/",
          "height": 295
        },
        "id": "dKgAXCkqp-yZ",
        "outputId": "d910fa59-2035-4327-a244-f4153f8d5325"
      },
      "execution_count": null,
      "outputs": [
        {
          "output_type": "display_data",
          "data": {
            "text/plain": [
              "<Figure size 432x288 with 1 Axes>"
            ],
            "image/png": "[encoded data removed]"
          },
          "metadata": {
            "needs_background": "light"
          }
        }
      ]
    },
    {
      "cell_type": "code",
      "source": [
        "# ch4_56.py\n",
        "import pandas as pd\n",
        "import matplotlib.pyplot as plt\n",
        "\n",
        "cities = {'population':[10000000,8500000,8000000,15000000,6000000,8000000],\n",
        "          'area':[400, 500, 850, 300, 200, 320],\n",
        "          'town':['New York','Chicago','Bangkok','Tokyo',\n",
        "                   'Singapore','HongKong']}\n",
        "tw = pd.DataFrame(cities, columns=['population','area'],index=cities['town'])\n",
        "          \n",
        "tw.plot(title='Population in the World')\n",
        "plt.xlabel('City')\n",
        "plt.show()"
      ],
      "metadata": {
        "colab": {
          "base_uri": "https://localhost:8080/",
          "height": 295
        },
        "id": "2POeFbVDy-jf",
        "outputId": "065877f3-a209-485b-9b34-3a0811bf3e9a"
      },
      "execution_count": null,
      "outputs": [
        {
          "output_type": "display_data",
          "data": {
            "text/plain": [
              "<Figure size 432x288 with 1 Axes>"
            ],
            "image/png": "[encoded data removed]"
          },
          "metadata": {
            "needs_background": "light"
          }
        }
      ]
    },
    {
      "cell_type": "code",
      "source": [
        "# ch4_57.py\n",
        "import pandas as pd\n",
        "import matplotlib.pyplot as plt\n",
        "\n",
        "cities = {'population':[10000000,8500000,8000000,15000000,6000000,8000000],\n",
        "          'area':[400, 500, 850, 300, 200, 320],\n",
        "          'town':['New York','Chicago','Bangkok','Tokyo',\n",
        "                   'Singapore','HongKong']}\n",
        "tw = pd.DataFrame(cities, columns=['population','area'],index=cities['town'])\n",
        "\n",
        "fig, ax = plt.subplots()\n",
        "fig.suptitle(\"City Statistics\")\n",
        "ax.set_ylabel(\"Population\")\n",
        "ax.set_xlabel(\"City\")\n",
        "\n",
        "ax2 = ax.twinx()\n",
        "ax2.set_ylabel(\"Area\")\n",
        "tw['population'].plot(ax=ax,rot=90)     # 繪製人口數線\n",
        "tw['area'].plot(ax=ax2, style='g-')     # 繪製面積線\n",
        "ax.legend(loc=1)                        # 圖例位置在右上\n",
        "ax2.legend(loc=2)                       # 圖例位置在左上\n",
        "plt.show()"
      ],
      "metadata": {
        "colab": {
          "base_uri": "https://localhost:8080/",
          "height": 349
        },
        "id": "mVISjQAAzC3W",
        "outputId": "2d1d602f-4792-43f7-ca9e-8eb6f052c826"
      },
      "execution_count": null,
      "outputs": [
        {
          "output_type": "display_data",
          "data": {
            "text/plain": [
              "<Figure size 432x288 with 2 Axes>"
            ],
            "image/png": "[encoded data removed]"
          },
          "metadata": {
            "needs_background": "light"
          }
        }
      ]
    },
    {
      "cell_type": "code",
      "source": [
        "# ch4_58.py\n",
        "import pandas as pd\n",
        "import matplotlib.pyplot as plt\n",
        "\n",
        "cities = {'population':[10000000,8500000,8000000,15000000,6000000,8000000],\n",
        "          'area':[400, 500, 850, 300, 200, 320],\n",
        "          'town':['New York','Chicago','Bangkok','Tokyo',\n",
        "                   'Singapore','HongKong']}\n",
        "tw = pd.DataFrame(cities, columns=['population','area'],index=cities['town'])\n",
        "\n",
        "fig, ax = plt.subplots()\n",
        "fig.suptitle(\"City Statistics\")\n",
        "ax.set_ylabel(\"Population\")\n",
        "ax.set_xlabel(\"City\")\n",
        "ax.ticklabel_format(style='plain')      # 不用科學記號表示\n",
        "ax2 = ax.twinx()\n",
        "ax2.set_ylabel(\"Area\")\n",
        "tw['population'].plot(ax=ax,rot=90)     # 繪製人口數線\n",
        "tw['area'].plot(ax=ax2, style='g-')     # 繪製面積線\n",
        "ax.legend(loc=1)                        # 圖例位置在右上\n",
        "ax2.legend(loc=2)                       # 圖例位置在左上\n",
        "plt.show()"
      ],
      "metadata": {
        "colab": {
          "base_uri": "https://localhost:8080/",
          "height": 349
        },
        "id": "Aw1MIjNIxbQp",
        "outputId": "42b2bdaa-3602-4983-d868-e7d19e0c8d09"
      },
      "execution_count": null,
      "outputs": [
        {
          "output_type": "display_data",
          "data": {
            "text/plain": [
              "<Figure size 432x288 with 2 Axes>"
            ],
            "image/png": "[encoded data removed]"
          },
          "metadata": {
            "needs_background": "light"
          }
        }
      ]
    },
    {
      "cell_type": "code",
      "source": [
        "# ch4_59.py\n",
        "import pandas as pd\n",
        "import matplotlib.pyplot as plt\n",
        "\n",
        "fruits = ['Apples', 'Bananas', 'Grapes', 'Pears', 'Oranges']\n",
        "s = pd.Series([2300, 5000, 1200, 2500, 2900], index=fruits,\n",
        "              name='Fruits Shop')\n",
        "explode = [0, 0, 0, 0.2, 0] \n",
        "s.plot.pie(explode = explode, autopct='%1.2f%%')\n",
        "plt.show()\n"
      ],
      "metadata": {
        "colab": {
          "base_uri": "https://localhost:8080/",
          "height": 252
        },
        "id": "X-Vd-AwbzLmK",
        "outputId": "30bd1b59-3c4a-4312-ccdb-149334eca299"
      },
      "execution_count": null,
      "outputs": [
        {
          "output_type": "display_data",
          "data": {
            "text/plain": [
              "<Figure size 432x288 with 1 Axes>"
            ],
            "image/png": "[encoded data removed]"
          },
          "metadata": {}
        }
      ]
    },
    {
      "cell_type": "code",
      "source": [
        "# ch4_60.py\n",
        "from datetime import datetime\n",
        "\n",
        "timeNow = datetime.now()\n",
        "print(type(timeNow))\n",
        "print(\"現在時間 : \", timeNow)\n",
        "\n",
        "print(f\"現在時間 :  {timeNow}\")\n",
        "\n"
      ],
      "metadata": {
        "colab": {
          "base_uri": "https://localhost:8080/"
        },
        "id": "A-FIoD1azQ60",
        "outputId": "9667d2f7-3739-4716-c12f-4afa2541535b"
      },
      "execution_count": null,
      "outputs": [
        {
          "output_type": "stream",
          "name": "stdout",
          "text": [
            "<class 'datetime.datetime'>\n",
            "現在時間 :  2022-05-16 16:52:08.018959\n",
            "現在時間 :  2022-05-16 16:52:08.018959\n"
          ]
        }
      ]
    },
    {
      "cell_type": "code",
      "source": [
        "# ch4_61.py\n",
        "from datetime import datetime\n",
        "\n",
        "timeNow = datetime.now()\n",
        "print(type(timeNow))\n",
        "print(\"現在時間 : \", timeNow)\n",
        "print(\"年 : \", timeNow.year)\n",
        "print(\"月 : \", timeNow.month)\n",
        "print(\"日 : \", timeNow.day)\n",
        "print(\"時 : \", timeNow.hour)\n",
        "print(\"分 : \", timeNow.minute)\n",
        "print(\"秒 : \", timeNow.second)\n",
        "\n"
      ],
      "metadata": {
        "colab": {
          "base_uri": "https://localhost:8080/"
        },
        "id": "cSzU4ArCzVpM",
        "outputId": "58a8c9c0-b16a-4076-94d1-3dcb77b4c7a8"
      },
      "execution_count": null,
      "outputs": [
        {
          "output_type": "stream",
          "name": "stdout",
          "text": [
            "<class 'datetime.datetime'>\n",
            "現在時間 :  2022-05-16 16:52:08.034217\n",
            "年 :  2022\n",
            "月 :  5\n",
            "日 :  16\n",
            "時 :  16\n",
            "分 :  52\n",
            "秒 :  8\n"
          ]
        }
      ]
    },
    {
      "cell_type": "code",
      "source": [
        "# ch4_62.py\n",
        "from datetime import datetime\n",
        "\n",
        "timeStop = datetime(2022,12,11,19,50,50)\n",
        "while datetime.now() > timeStop:\n",
        "    print(\"Program is sleeping.\", end=\"\")\n",
        "print(\"Wake up\")\n"
      ],
      "metadata": {
        "colab": {
          "base_uri": "https://localhost:8080/"
        },
        "id": "s2RWx1XzzauV",
        "outputId": "7eb42a3d-a83a-41ce-8aef-0def4ceabe11"
      },
      "execution_count": null,
      "outputs": [
        {
          "output_type": "stream",
          "name": "stdout",
          "text": [
            "Wake up\n"
          ]
        }
      ]
    },
    {
      "cell_type": "code",
      "source": [
        "# ch4_63.py\n",
        "from datetime import datetime, timedelta\n",
        "\n",
        "deltaTime = timedelta(days=3,hours=5,minutes=8,seconds=10)\n",
        "print(deltaTime.days, deltaTime.seconds, deltaTime)\n",
        "\n"
      ],
      "metadata": {
        "colab": {
          "base_uri": "https://localhost:8080/"
        },
        "id": "HG3_RHnQ0LvW",
        "outputId": "46a74db1-7abc-4654-a7c6-5d634636dea5"
      },
      "execution_count": null,
      "outputs": [
        {
          "output_type": "stream",
          "name": "stdout",
          "text": [
            "3 18490 3 days, 5:08:10\n"
          ]
        }
      ]
    },
    {
      "cell_type": "code",
      "source": [
        "# ch4_64.py\n",
        "from datetime import datetime, timedelta\n",
        "\n",
        "deltaTime = timedelta(days=3,hours=5,minutes=8,seconds=10)\n",
        "print(deltaTime.total_seconds())\n"
      ],
      "metadata": {
        "colab": {
          "base_uri": "https://localhost:8080/"
        },
        "id": "JYp6Adag0QUm",
        "outputId": "28b5af45-9440-4c41-bf8e-635ab68f0df5"
      },
      "execution_count": null,
      "outputs": [
        {
          "output_type": "stream",
          "name": "stdout",
          "text": [
            "277690.0\n"
          ]
        }
      ]
    },
    {
      "cell_type": "code",
      "source": [
        "# ch4_65.py\n",
        "import pandas as pd\n",
        "from datetime import datetime, timedelta\n",
        "\n",
        "ndays = 40\n",
        "start = datetime(2021, 9, 15)   \n",
        "dates = [start + timedelta(days=x) for x in range(0, ndays)]\n",
        "data =  [0,51,2,3,4]\n",
        "a= pd.Series(range(0,40,1), index=dates)\n",
        "print(a)\n",
        "ts = pd.Series(a, index=dates)\n",
        "print(type(ts))\n",
        "print(ts)"
      ],
      "metadata": {
        "colab": {
          "base_uri": "https://localhost:8080/"
        },
        "id": "hXIjxV_g0TW6",
        "outputId": "a4f0850f-c91c-4723-c94c-abb3736b4ae3"
      },
      "execution_count": null,
      "outputs": [
        {
          "output_type": "stream",
          "name": "stdout",
          "text": [
            "2021-09-15     0\n",
            "2021-09-16     1\n",
            "2021-09-17     2\n",
            "2021-09-18     3\n",
            "2021-09-19     4\n",
            "2021-09-20     5\n",
            "2021-09-21     6\n",
            "2021-09-22     7\n",
            "2021-09-23     8\n",
            "2021-09-24     9\n",
            "2021-09-25    10\n",
            "2021-09-26    11\n",
            "2021-09-27    12\n",
            "2021-09-28    13\n",
            "2021-09-29    14\n",
            "2021-09-30    15\n",
            "2021-10-01    16\n",
            "2021-10-02    17\n",
            "2021-10-03    18\n",
            "2021-10-04    19\n",
            "2021-10-05    20\n",
            "2021-10-06    21\n",
            "2021-10-07    22\n",
            "2021-10-08    23\n",
            "2021-10-09    24\n",
            "2021-10-10    25\n",
            "2021-10-11    26\n",
            "2021-10-12    27\n",
            "2021-10-13    28\n",
            "2021-10-14    29\n",
            "2021-10-15    30\n",
            "2021-10-16    31\n",
            "2021-10-17    32\n",
            "2021-10-18    33\n",
            "2021-10-19    34\n",
            "2021-10-20    35\n",
            "2021-10-21    36\n",
            "2021-10-22    37\n",
            "2021-10-23    38\n",
            "2021-10-24    39\n",
            "dtype: int64\n",
            "<class 'pandas.core.series.Series'>\n",
            "2021-09-15     0\n",
            "2021-09-16     1\n",
            "2021-09-17     2\n",
            "2021-09-18     3\n",
            "2021-09-19     4\n",
            "2021-09-20     5\n",
            "2021-09-21     6\n",
            "2021-09-22     7\n",
            "2021-09-23     8\n",
            "2021-09-24     9\n",
            "2021-09-25    10\n",
            "2021-09-26    11\n",
            "2021-09-27    12\n",
            "2021-09-28    13\n",
            "2021-09-29    14\n",
            "2021-09-30    15\n",
            "2021-10-01    16\n",
            "2021-10-02    17\n",
            "2021-10-03    18\n",
            "2021-10-04    19\n",
            "2021-10-05    20\n",
            "2021-10-06    21\n",
            "2021-10-07    22\n",
            "2021-10-08    23\n",
            "2021-10-09    24\n",
            "2021-10-10    25\n",
            "2021-10-11    26\n",
            "2021-10-12    27\n",
            "2021-10-13    28\n",
            "2021-10-14    29\n",
            "2021-10-15    30\n",
            "2021-10-16    31\n",
            "2021-10-17    32\n",
            "2021-10-18    33\n",
            "2021-10-19    34\n",
            "2021-10-20    35\n",
            "2021-10-21    36\n",
            "2021-10-22    37\n",
            "2021-10-23    38\n",
            "2021-10-24    39\n",
            "dtype: int64\n"
          ]
        }
      ]
    },
    {
      "cell_type": "code",
      "source": [
        "# ch4_66.py\n",
        "import pandas as pd\n",
        "from datetime import datetime, timedelta\n",
        "\n",
        "ndays = 5\n",
        "start = datetime(2021, 9, 15)   \n",
        "dates = [start + timedelta(days=x) for x in range(0, ndays)]\n",
        "data1 = [34, 44, 65, 53, 39]\n",
        "ts1 = pd.Series(data1, index=dates)\n",
        "\n",
        "data2 = [34, 44, 65, 53, 39]\n",
        "ts2 = pd.Series(data2, index=dates)\n",
        "\n",
        "addts = ts1 + ts2\n",
        "print(\"ts1+ts2\")\n",
        "print(addts)\n",
        "\n",
        "meants = (ts1 + ts2)/2\n",
        "print(\"(ts1+ts2)/2\")\n",
        "print(meants)"
      ],
      "metadata": {
        "colab": {
          "base_uri": "https://localhost:8080/"
        },
        "id": "IVUgdu_u0khd",
        "outputId": "9fb4c24b-5efa-410e-cb02-f41921989f7c"
      },
      "execution_count": null,
      "outputs": [
        {
          "output_type": "stream",
          "name": "stdout",
          "text": [
            "ts1+ts2\n",
            "2021-09-15     68\n",
            "2021-09-16     88\n",
            "2021-09-17    130\n",
            "2021-09-18    106\n",
            "2021-09-19     78\n",
            "dtype: int64\n",
            "(ts1+ts2)/2\n",
            "2021-09-15    34.0\n",
            "2021-09-16    44.0\n",
            "2021-09-17    65.0\n",
            "2021-09-18    53.0\n",
            "2021-09-19    39.0\n",
            "dtype: float64\n"
          ]
        }
      ]
    },
    {
      "cell_type": "code",
      "source": [
        "# ch4_67.py\n",
        "import pandas as pd\n",
        "from datetime import datetime, timedelta\n",
        "\n",
        "ndays = 5\n",
        "start = datetime(2021, 9, 15)   \n",
        "dates1 = [start + timedelta(days=x) for x in range(0, ndays)]\n",
        "data1 = [34, 44, 65, 53, 39]\n",
        "ts1 = pd.Series(data1, index=dates1)\n",
        "\n",
        "dates2 = [start - timedelta(days=x) for x in range(0, ndays)]\n",
        "data2 = [34, 44, 65, 53, 39]\n",
        "ts2 = pd.Series(data2, index=dates2)\n",
        "\n",
        "print(ts1)\n",
        "print(ts2)\n",
        "addts = ts1 + ts2\n",
        "print(\"ts1+ts2\")\n",
        "print(addts)"
      ],
      "metadata": {
        "colab": {
          "base_uri": "https://localhost:8080/"
        },
        "id": "q7lzI4L179Us",
        "outputId": "289eb7db-db24-4cb6-ba17-8f558a2513a9"
      },
      "execution_count": null,
      "outputs": [
        {
          "output_type": "stream",
          "name": "stdout",
          "text": [
            "2021-09-15    34\n",
            "2021-09-16    44\n",
            "2021-09-17    65\n",
            "2021-09-18    53\n",
            "2021-09-19    39\n",
            "dtype: int64\n",
            "2021-09-15    34\n",
            "2021-09-14    44\n",
            "2021-09-13    65\n",
            "2021-09-12    53\n",
            "2021-09-11    39\n",
            "dtype: int64\n",
            "ts1+ts2\n",
            "2021-09-11     NaN\n",
            "2021-09-12     NaN\n",
            "2021-09-13     NaN\n",
            "2021-09-14     NaN\n",
            "2021-09-15    68.0\n",
            "2021-09-16     NaN\n",
            "2021-09-17     NaN\n",
            "2021-09-18     NaN\n",
            "2021-09-19     NaN\n",
            "Freq: D, dtype: float64\n"
          ]
        }
      ]
    },
    {
      "cell_type": "code",
      "source": [
        "# ch4_68.py\n",
        "import pandas as pd\n",
        "\n",
        "dates = pd.date_range('3/11/2022', '3/15/2022')\n",
        "# dates = pd.date_range('2022-03-11', '2022-03-15')\n",
        "data = [34, 44, 65, 53, 39]\n",
        "ts = pd.Series(data, index=dates)\n",
        "print(type(ts))\n",
        "print(ts)\n",
        "\n",
        "print(dates)\n",
        "\n",
        "\n"
      ],
      "metadata": {
        "colab": {
          "base_uri": "https://localhost:8080/"
        },
        "id": "7ngvc9kg8DY6",
        "outputId": "1a513b54-6f1b-451f-b997-b625d5b4c616"
      },
      "execution_count": null,
      "outputs": [
        {
          "output_type": "stream",
          "name": "stdout",
          "text": [
            "<class 'pandas.core.series.Series'>\n",
            "2022-03-11    34\n",
            "2022-03-12    44\n",
            "2022-03-13    65\n",
            "2022-03-14    53\n",
            "2022-03-15    39\n",
            "Freq: D, dtype: int64\n",
            "DatetimeIndex(['2022-03-11', '2022-03-12', '2022-03-13', '2022-03-14',\n",
            "               '2022-03-15'],\n",
            "              dtype='datetime64[ns]', freq='D')\n"
          ]
        }
      ]
    },
    {
      "cell_type": "code",
      "source": [
        "# ch4_68.py\n",
        "# 實例 1\n",
        "\n",
        "import pandas as pd\n",
        "\n",
        "dates = pd.date_range(start='2021-09-15', periods=5)\n",
        "data = [34, 44, 65, 53, 39]\n",
        "ts = pd.Series(data, index=dates)\n",
        "print(type(ts))\n",
        "print(ts)\n",
        "\n",
        "print(dates)\n",
        "\n",
        "\n"
      ],
      "metadata": {
        "colab": {
          "base_uri": "https://localhost:8080/"
        },
        "id": "nmKuWrUw8fLJ",
        "outputId": "8b3414c0-482f-4b77-f3f1-716327a2af29"
      },
      "execution_count": null,
      "outputs": [
        {
          "output_type": "stream",
          "name": "stdout",
          "text": [
            "<class 'pandas.core.series.Series'>\n",
            "2021-09-15    34\n",
            "2021-09-16    44\n",
            "2021-09-17    65\n",
            "2021-09-18    53\n",
            "2021-09-19    39\n",
            "Freq: D, dtype: int64\n",
            "DatetimeIndex(['2021-09-15', '2021-09-16', '2021-09-17', '2021-09-18',\n",
            "               '2021-09-19'],\n",
            "              dtype='datetime64[ns]', freq='D')\n"
          ]
        }
      ]
    },
    {
      "cell_type": "code",
      "source": [
        "# ch4_68.py\n",
        "# 實例 2\n",
        "\n",
        "import pandas as pd\n",
        "\n",
        "dates = pd.date_range(end='2021-09-15', periods=5)\n",
        "data = [34, 44, 65, 53, 39]\n",
        "ts = pd.Series(data, index=dates)\n",
        "print(type(ts))\n",
        "print(ts)\n",
        "\n",
        "print(dates)\n"
      ],
      "metadata": {
        "colab": {
          "base_uri": "https://localhost:8080/"
        },
        "id": "ECrXnQAT9pio",
        "outputId": "b0d46c87-216b-498e-c4fc-99066aa2c4e8"
      },
      "execution_count": null,
      "outputs": [
        {
          "output_type": "stream",
          "name": "stdout",
          "text": [
            "<class 'pandas.core.series.Series'>\n",
            "2021-09-11    34\n",
            "2021-09-12    44\n",
            "2021-09-13    65\n",
            "2021-09-14    53\n",
            "2021-09-15    39\n",
            "Freq: D, dtype: int64\n",
            "DatetimeIndex(['2021-09-11', '2021-09-12', '2021-09-13', '2021-09-14',\n",
            "               '2021-09-15'],\n",
            "              dtype='datetime64[ns]', freq='D')\n"
          ]
        }
      ]
    },
    {
      "cell_type": "code",
      "source": [
        "# ch4_68.py\n",
        "import pandas as pd\n",
        "\n",
        "dates = pd.date_range('2021-09-15', '2021-09-21', freq='B')\n",
        "data = [34, 44, 65, 53, 39]\n",
        "ts = pd.Series(data, index=dates)\n",
        "print(type(ts))\n",
        "print(ts)\n",
        "\n",
        "print(dates)\n",
        "\n"
      ],
      "metadata": {
        "colab": {
          "base_uri": "https://localhost:8080/"
        },
        "id": "B_Lc6I_19XPL",
        "outputId": "ec30d327-ef2e-4718-d439-9ad1354d9623"
      },
      "execution_count": null,
      "outputs": [
        {
          "output_type": "stream",
          "name": "stdout",
          "text": [
            "<class 'pandas.core.series.Series'>\n",
            "2021-09-15    34\n",
            "2021-09-16    44\n",
            "2021-09-17    65\n",
            "2021-09-20    53\n",
            "2021-09-21    39\n",
            "Freq: B, dtype: int64\n",
            "DatetimeIndex(['2021-09-15', '2021-09-16', '2021-09-17', '2021-09-20',\n",
            "               '2021-09-21'],\n",
            "              dtype='datetime64[ns]', freq='B')\n"
          ]
        }
      ]
    },
    {
      "cell_type": "code",
      "source": [
        "# ch4_68.py\n",
        "import pandas as pd\n",
        "\n",
        "dates = pd.date_range('2021-05-11', '2021-09-08', freq='M')\n",
        "\n",
        "print(type(dates))\n",
        "print(dates)\n",
        "\n"
      ],
      "metadata": {
        "colab": {
          "base_uri": "https://localhost:8080/"
        },
        "id": "53GZ6LOW9yqu",
        "outputId": "728eed31-237d-4eef-a9db-014c7641b5ef"
      },
      "execution_count": null,
      "outputs": [
        {
          "output_type": "stream",
          "name": "stdout",
          "text": [
            "<class 'pandas.core.indexes.datetimes.DatetimeIndex'>\n",
            "DatetimeIndex(['2021-05-31', '2021-06-30', '2021-07-31', '2021-08-31'], dtype='datetime64[ns]', freq='M')\n"
          ]
        }
      ]
    },
    {
      "cell_type": "code",
      "source": [
        "# ch4_68.py\n",
        "import pandas as pd\n",
        "\n",
        "dates = pd.date_range('2021-05-11', '2021-09-08', freq='W-Mon')\n",
        "\n",
        "print(type(dates))\n",
        "print(dates)\n",
        "\n"
      ],
      "metadata": {
        "colab": {
          "base_uri": "https://localhost:8080/"
        },
        "id": "9UtL6L1--CTL",
        "outputId": "36fa4601-449b-472b-df16-3fcf5decc5af"
      },
      "execution_count": null,
      "outputs": [
        {
          "output_type": "stream",
          "name": "stdout",
          "text": [
            "<class 'pandas.core.indexes.datetimes.DatetimeIndex'>\n",
            "DatetimeIndex(['2021-05-17', '2021-05-24', '2021-05-31', '2021-06-07',\n",
            "               '2021-06-14', '2021-06-21', '2021-06-28', '2021-07-05',\n",
            "               '2021-07-12', '2021-07-19', '2021-07-26', '2021-08-02',\n",
            "               '2021-08-09', '2021-08-16', '2021-08-23', '2021-08-30',\n",
            "               '2021-09-06'],\n",
            "              dtype='datetime64[ns]', freq='W-MON')\n"
          ]
        }
      ]
    },
    {
      "cell_type": "code",
      "source": [
        "# ch4_69.py\n",
        "import pandas as pd\n",
        "import matplotlib.pyplot as plt\n",
        "\n",
        "dates = pd.date_range('3/11/2022', '3/15/2022')\n",
        "data = [34, 44, 65, 53, 39]\n",
        "ts = pd.Series(data, index=dates)\n",
        "ts.plot(title='Data in Time Series')\n",
        "plt.xlabel(\"Date\")\n",
        "plt.ylabel(\"Data\")\n",
        "plt.show()\n",
        "\n"
      ],
      "metadata": {
        "colab": {
          "base_uri": "https://localhost:8080/",
          "height": 319
        },
        "id": "7Z1mjyR88Ghy",
        "outputId": "9f85c507-5593-45b2-da45-90eb80493952"
      },
      "execution_count": null,
      "outputs": [
        {
          "output_type": "display_data",
          "data": {
            "text/plain": [
              "<Figure size 432x288 with 1 Axes>"
            ],
            "image/png": "[encoded data removed]"
          },
          "metadata": {
            "needs_background": "light"
          }
        }
      ]
    },
    {
      "cell_type": "code",
      "source": [
        "# ch4_70.py\n",
        "import requests\n",
        "\n",
        "url = 'http://archive.ics.uci.edu/ml/machine-learning-databases/iris/iris.data'\n",
        "try:\n",
        "    htmlfile = requests.get(url)                        # 將檔案下載至htmlfile\n",
        "    print('下載成功')\n",
        "except Exception as err:\n",
        "    print('下載失敗')\n",
        "\n",
        "fn = 'iris.csv'                                         # 未來儲存鳶尾花的檔案\n",
        "with open(fn, 'wb') as fileobj:                         # 開啟iris.csv\n",
        "    for diskstorage in htmlfile.iter_content(10240):\n",
        "        size = fileobj.write(diskstorage)               # 寫入\n",
        "\n",
        "\n"
      ],
      "metadata": {
        "colab": {
          "base_uri": "https://localhost:8080/"
        },
        "id": "4wzULXik8O0G",
        "outputId": "2617887b-679d-4c15-a2a1-9c71044c7399"
      },
      "execution_count": null,
      "outputs": [
        {
          "output_type": "stream",
          "name": "stdout",
          "text": [
            "下載成功\n"
          ]
        }
      ]
    },
    {
      "cell_type": "code",
      "source": [
        "# ch4_70.py\n",
        "import requests\n",
        "\n",
        "url = 'http://archive.ics.uci.edu/ml/machine-learning-databases/iris/iris.data'\n",
        "try:\n",
        "    htmlfile = requests.get(url)                        # 將檔案下載至htmlfile\n",
        "    print('下載成功')\n",
        "except Exception as err:\n",
        "    print('下載失敗')\n",
        "\n",
        "fn = 'iris.csv'                                         # 未來儲存鳶尾花的檔案\n",
        "with open(fn, 'wb') as fileobj:                         # 開啟iris.csv\n",
        "    for diskstorage in htmlfile.iter_content(10240):\n",
        "        size = fileobj.write(diskstorage)               # 寫入\n",
        "\n",
        "\n",
        "\n",
        "# ch4_71.py\n",
        "import pandas as pd\n",
        "\n",
        "colName = ['sepal_len','sepal_wd','petal_len','petal_wd','species']\n",
        "iris = pd.read_csv('iris.csv', names = colName)\n",
        "print('資料集長度 : ', len(iris))\n",
        "print(iris)\n",
        "\n",
        "\n"
      ],
      "metadata": {
        "colab": {
          "base_uri": "https://localhost:8080/"
        },
        "id": "ylSZ7A_Pn4-B",
        "outputId": "45c68ebc-6deb-403f-b30b-6e2d0566441e"
      },
      "execution_count": null,
      "outputs": [
        {
          "output_type": "stream",
          "name": "stdout",
          "text": [
            "下載成功\n",
            "資料集長度 :  150\n",
            "     sepal_len  sepal_wd  petal_len  petal_wd         species\n",
            "0          5.1       3.5        1.4       0.2     Iris-setosa\n",
            "1          4.9       3.0        1.4       0.2     Iris-setosa\n",
            "2          4.7       3.2        1.3       0.2     Iris-setosa\n",
            "3          4.6       3.1        1.5       0.2     Iris-setosa\n",
            "4          5.0       3.6        1.4       0.2     Iris-setosa\n",
            "..         ...       ...        ...       ...             ...\n",
            "145        6.7       3.0        5.2       2.3  Iris-virginica\n",
            "146        6.3       2.5        5.0       1.9  Iris-virginica\n",
            "147        6.5       3.0        5.2       2.0  Iris-virginica\n",
            "148        6.2       3.4        5.4       2.3  Iris-virginica\n",
            "149        5.9       3.0        5.1       1.8  Iris-virginica\n",
            "\n",
            "[150 rows x 5 columns]\n"
          ]
        }
      ]
    },
    {
      "cell_type": "code",
      "source": [
        "# ch4_72.py\n",
        "import pandas as pd\n",
        "import matplotlib.pyplot as plt\n",
        "\n",
        "colName = ['sepal_len','sepal_wd','petal_len','petal_wd','species']\n",
        "iris = pd.read_csv('iris.csv', names = colName)\n",
        "\n",
        "iris.plot(x='sepal_len',y='sepal_wd',kind='scatter')\n",
        "plt.xlabel('Sepal Length')\n",
        "plt.ylabel('Sepal Width')\n",
        "plt.title('Iris Sepal length and width anslysis')\n",
        "plt.show()"
      ],
      "metadata": {
        "colab": {
          "base_uri": "https://localhost:8080/",
          "height": 295
        },
        "id": "Km8Al2InoD6Z",
        "outputId": "ff859521-9d55-4673-a8a1-04c9fbf70832"
      },
      "execution_count": null,
      "outputs": [
        {
          "output_type": "display_data",
          "data": {
            "text/plain": [
              "<Figure size 432x288 with 1 Axes>"
            ],
            "image/png": "[encoded data removed]"
          },
          "metadata": {
            "needs_background": "light"
          }
        }
      ]
    },
    {
      "cell_type": "code",
      "source": [
        "# ch4_73.py\n",
        "import pandas as pd\n",
        "import matplotlib.pyplot as plt\n",
        "\n",
        "colName = ['sepal_len','sepal_wd','petal_len','petal_wd','species']\n",
        "iris = pd.read_csv('iris.csv', names = colName)\n",
        "\n",
        "plt.plot(iris['sepal_len'],iris['sepal_wd'],'*',color='g')\n",
        "plt.xlabel('Sepal Length')\n",
        "plt.ylabel('Sepal Width')\n",
        "plt.title('Iris Sepal length and width anslysis')\n",
        "plt.show()\n"
      ],
      "metadata": {
        "colab": {
          "base_uri": "https://localhost:8080/",
          "height": 295
        },
        "id": "XgRnCGeQoJp-",
        "outputId": "02bfe094-a4d9-4dca-910f-759225c0e9d9"
      },
      "execution_count": null,
      "outputs": [
        {
          "output_type": "display_data",
          "data": {
            "text/plain": [
              "<Figure size 432x288 with 1 Axes>"
            ],
            "image/png": "[encoded data removed]"
          },
          "metadata": {
            "needs_background": "light"
          }
        }
      ]
    },
    {
      "cell_type": "code",
      "source": [
        "# ch4_74.py\n",
        "import pandas as pd\n",
        "import matplotlib.pyplot as plt\n",
        "\n",
        "\n",
        "colName = ['sepal_len','sepal_wd','petal_len','petal_wd','species']\n",
        "iris = pd.read_csv('iris.csv', names = colName)\n",
        "\n",
        "# 擷取不同品種的鳶尾花\n",
        "iris_setosa = iris[iris['species'] == 'Iris-setosa']\n",
        "iris_versicolor = iris[iris['species'] == 'Iris-versicolor']\n",
        "iris_virginica = iris[iris['species'] == 'Iris-virginica']\n",
        "# 繪製散點圖\n",
        "plt.plot(iris_setosa['sepal_len'],iris_setosa['sepal_wd'],\n",
        "         '*',color='g',label='setosa')\n",
        "plt.plot(iris_versicolor['sepal_len'],iris_versicolor['sepal_wd'],\n",
        "         'x',color='b',label='versicolor')\n",
        "plt.plot(iris_virginica['sepal_len'],iris_virginica['sepal_wd'],\n",
        "         '.',color='r',label='virginica')\n",
        "# 標註軸和標題\n",
        "plt.xlabel('Sepal Length')\n",
        "plt.ylabel('Sepal Width')\n",
        "plt.title('Iris Sepal length and width anslysis')\n",
        "plt.legend()\n",
        "plt.show()\n"
      ],
      "metadata": {
        "colab": {
          "base_uri": "https://localhost:8080/",
          "height": 295
        },
        "id": "_TB4jCeFoMHV",
        "outputId": "2ba9f27b-b26f-4b6c-e48e-e6f21b1c09bc"
      },
      "execution_count": null,
      "outputs": [
        {
          "output_type": "display_data",
          "data": {
            "text/plain": [
              "<Figure size 432x288 with 1 Axes>"
            ],
            "image/png": "[encoded data removed]"
          },
          "metadata": {
            "needs_background": "light"
          }
        }
      ]
    },
    {
      "cell_type": "code",
      "source": [
        "# ch4_75.py\n",
        "import pandas as pd\n",
        "import matplotlib.pyplot as plt\n",
        "\n",
        "colName = ['sepal_len','sepal_wd','petal_len','petal_wd','species']\n",
        "iris = pd.read_csv('iris.csv', names = colName)\n",
        "\n",
        "# 鳶尾花分組統計均值\n",
        "\n",
        "iris_mean = iris.groupby('species', as_index=False).mean()\n",
        "\n",
        "\n",
        "# 繪製直條圖\n",
        "iris_mean.plot(kind='bar')\n",
        "# 刻度處理\n",
        "plt.xticks(iris_mean.index,iris_mean['species'], rotation=0)\n",
        "# plt.show()\n",
        "# x=\"distance\", y=\"orbital_period\" 兩各類別變數構成散佈圖的主要部分\n",
        "# 顏色深淺是 year  \n",
        "# 圓圈大小是 mass\n",
        "# X Y 取 log\n",
        "# g.set(xscale=\"log\", yscale=\"log\")\n",
        "\n",
        "plt.savefig(\"HighResoltion.png\",dpi=300)"
      ],
      "metadata": {
        "colab": {
          "base_uri": "https://localhost:8080/",
          "height": 265
        },
        "id": "_z9na410oP5g",
        "outputId": "0d00e181-fb5d-4916-90ca-6db80b202775"
      },
      "execution_count": null,
      "outputs": [
        {
          "output_type": "display_data",
          "data": {
            "text/plain": [
              "<Figure size 432x288 with 1 Axes>"
            ],
            "image/png": "[encoded data removed]"
          },
          "metadata": {
            "needs_background": "light"
          }
        }
      ]
    },
    {
      "cell_type": "code",
      "source": [
        "# ch4_76.py\n",
        "import pandas as pd\n",
        "import matplotlib.pyplot as plt\n",
        "\n",
        "colName = ['sepal_len','sepal_wd','petal_len','petal_wd','species']\n",
        "iris = pd.read_csv('iris.csv', names = colName)\n",
        "iris['species'] = iris['species'].apply(lambda x: x.replace(\"Iris-\",\"\"))\n",
        "# 鳶尾花分組統計均值\n",
        "iris_mean = iris.groupby('species', as_index=False).mean()\n",
        "# 繪製直條圖\n",
        "iris_mean.plot(kind='bar')\n",
        "# 刻度處理\n",
        "plt.xticks(iris_mean.index,iris_mean['species'], rotation=0)\n",
        "\n",
        "plt.show()"
      ],
      "metadata": {
        "colab": {
          "base_uri": "https://localhost:8080/",
          "height": 265
        },
        "id": "yLVLh5EGoS7r",
        "outputId": "af1841c9-29c1-40b5-bd61-e8b32bb89320"
      },
      "execution_count": null,
      "outputs": [
        {
          "output_type": "display_data",
          "data": {
            "text/plain": [
              "<Figure size 432x288 with 1 Axes>"
            ],
            "image/png": "[encoded data removed]"
          },
          "metadata": {
            "needs_background": "light"
          }
        }
      ]
    },
    {
      "cell_type": "code",
      "source": [
        "# ch4_77.py\n",
        "import pandas as pd\n",
        "import matplotlib.pyplot as plt\n",
        "\n",
        "colName = ['sepal_len','sepal_wd','petal_len','petal_wd','species']\n",
        "iris = pd.read_csv('iris.csv', names = colName)\n",
        "iris['species'] = iris['species'].apply(lambda x: x.replace(\"Iris-\",\"\"))\n",
        "# 鳶尾花分組統計均值\n",
        "iris_mean = iris.groupby('species', as_index=False).mean()\n",
        "# 繪製堆疊直條圖\n",
        "iris_mean.plot(kind='bar',stacked=True)\n",
        "# 刻度處理\n",
        "plt.xticks(iris_mean.index,iris_mean['species'], rotation=0)\n",
        "\n",
        "plt.show()"
      ],
      "metadata": {
        "colab": {
          "base_uri": "https://localhost:8080/",
          "height": 265
        },
        "id": "V8KUEbnpoWWk",
        "outputId": "5cbd9e60-6d1f-46b6-bca0-052c59bae3b8"
      },
      "execution_count": null,
      "outputs": [
        {
          "output_type": "display_data",
          "data": {
            "text/plain": [
              "<Figure size 432x288 with 1 Axes>"
            ],
            "image/png": "[encoded data removed]"
          },
          "metadata": {
            "needs_background": "light"
          }
        }
      ]
    },
    {
      "cell_type": "code",
      "source": [
        "# ch4_78.py\n",
        "import pandas as pd\n",
        "import matplotlib.pyplot as plt\n",
        "\n",
        "colName = ['sepal_len','sepal_wd','petal_len','petal_wd','species']\n",
        "iris = pd.read_csv('iris.csv', names = colName)\n",
        "iris['species'] = iris['species'].apply(lambda x: x.replace(\"Iris-\",\"\"))\n",
        "# 鳶尾花分組統計均值\n",
        "iris_mean = iris.groupby('species', as_index=False).mean()\n",
        "# 繪製堆疊橫條圖\n",
        "iris_mean.plot(kind='barh',stacked=True)\n",
        "# 刻度處理\n",
        "plt.yticks(iris_mean.index,iris_mean['species'], rotation=0)\n",
        "\n",
        "plt.show()"
      ],
      "metadata": {
        "colab": {
          "base_uri": "https://localhost:8080/",
          "height": 265
        },
        "id": "ZCeTsBLUoZ32",
        "outputId": "1316d233-ed86-40be-9ff3-cfcd4452b516"
      },
      "execution_count": null,
      "outputs": [
        {
          "output_type": "display_data",
          "data": {
            "text/plain": [
              "<Figure size 432x288 with 1 Axes>"
            ],
            "image/png": "[encoded data removed]"
          },
          "metadata": {
            "needs_background": "light"
          }
        }
      ]
    },
    {
      "cell_type": "code",
      "source": [
        "# ch4_79.py\n",
        "import pandas as pd\n",
        "\n",
        "url = 'http://www.stockq.org/market/currency.php'\n",
        "currencys = pd.read_html(url)\n",
        "\n",
        "print(type(currencys))              # 列出資料型態\n",
        "print(currencys)                    # 列出匯率的串列內容\n"
      ],
      "metadata": {
        "colab": {
          "base_uri": "https://localhost:8080/"
        },
        "id": "SJ8NYwT-odBN",
        "outputId": "d816b0ae-79cd-4bbb-dcfe-ca38db488c85"
      },
      "execution_count": null,
      "outputs": [
        {
          "output_type": "stream",
          "name": "stdout",
          "text": [
            "<class 'list'>\n",
            "[                                                   0\n",
            "0  (adsbygoogle = window.adsbygoogle || []).push(...,                                                    0\n",
            "0  (adsbygoogle = window.adsbygoogle || []).push(...\n",
            "1  首頁 市場動態 歷史股價 基金淨值 基金分類 全球經濟數據 行事曆  期貨報告  銀行匯率 ...,     0                                                  1\n",
            "0 NaN  (adsbygoogle = window.adsbygoogle || []).push(...,                                                    0     1\n",
            "0  首頁 市場動態 歷史股價 基金淨值 基金分類 全球經濟數據 行事曆  期貨報告  銀行匯率 ...  简体中文,                                                    0  \\\n",
            "0  市場動態 全球股市排行榜 相對低檔股市指數 相對高檔股市指數 各國股市 亞洲股市指數 歐洲股...   \n",
            "\n",
            "                                                   1  \n",
            "0  全球貨幣匯率 2022/5/17 00:52:10  全球匯率 (Currency Exch...  ,                                                    0\n",
            "0  市場動態 全球股市排行榜 相對低檔股市指數 相對高檔股市指數 各國股市 亞洲股市指數 歐洲股...,                            0   1\n",
            "0  全球貨幣匯率 2022/5/17 00:52:10 NaN,                            0                         1  \\\n",
            "0   全球匯率 (Currency Exchange)  全球匯率 (Currency Exchange)   \n",
            "1                         貨幣                        匯率   \n",
            "2                      歐元/美元                    1.0425   \n",
            "3                      英鎊/美元                    1.2279   \n",
            "4                    美元/瑞士法郎                    1.0024   \n",
            "5                    美元/瑞典克朗                   10.0662   \n",
            "6                   美元/俄羅斯盧布                   63.4000   \n",
            "7                    美元/烏克蘭幣                   29.5400   \n",
            "8                    美元/匈牙利幣                    374.47   \n",
            "9                    美元/土耳其幣                   15.5297   \n",
            "10                    美元/南非幣                   16.1947   \n",
            "11                   美元/以色列幣                    3.3897   \n",
            "12                    美元/摩洛哥                   10.0872   \n",
            "13                     澳幣/美元                    0.6946   \n",
            "14                     紐幣/美元                    0.6285   \n",
            "15                     美元/日圓                    129.09   \n",
            "16                    美元/人民幣                    6.7852   \n",
            "17                     美元/港幣                    7.8497   \n",
            "18                     美元/台幣                    29.782   \n",
            "19                     美元/韓圜                   1281.07   \n",
            "20                     美元/泰銖                    34.740   \n",
            "21                     美元/新元                    1.3932   \n",
            "22                    美元/菲披索                    52.485   \n",
            "23                    美元/馬來幣                    4.3960   \n",
            "24                    美元/印尼盾                   14610.0   \n",
            "25                   美元/印度盧比                    77.838   \n",
            "26                     美元/加幣                    1.2882   \n",
            "27                    美元/巴西幣                    5.0891   \n",
            "28                  美元/墨西哥披索                   20.0567   \n",
            "29                    美元/阿根廷                  117.8600   \n",
            "30                     美元/智利                    859.30   \n",
            "\n",
            "                           2                         3  \\\n",
            "0   全球匯率 (Currency Exchange)  全球匯率 (Currency Exchange)   \n",
            "1                         漲跌                        比例   \n",
            "2                     0.0016                     0.15%   \n",
            "3                     0.0019                     0.15%   \n",
            "4                     0.0009                     0.09%   \n",
            "5                     0.0096                     0.10%   \n",
            "6                    -1.1450                    -1.77%   \n",
            "7                     0.0037                     0.01%   \n",
            "8                       4.39                     1.19%   \n",
            "9                     0.0544                     0.35%   \n",
            "10                    0.0443                     0.27%   \n",
            "11                   -0.0102                    -0.30%   \n",
            "12                   -0.0314                    -0.31%   \n",
            "13                    0.0008                     0.12%   \n",
            "14                    0.0003                     0.06%   \n",
            "15                     -0.09                    -0.07%   \n",
            "16                   -0.0028                    -0.04%   \n",
            "17                   -0.0001                    -0.00%   \n",
            "18                     0.005                     0.02%   \n",
            "19                      3.51                     0.27%   \n",
            "20                     0.050                     0.14%   \n",
            "21                    0.0010                     0.07%   \n",
            "22                     0.125                     0.24%   \n",
            "23                    0.0000                     0.00%   \n",
            "24                       0.0                     0.00%   \n",
            "25                     0.352                     0.45%   \n",
            "26                   -0.0024                    -0.19%   \n",
            "27                    0.0293                     0.58%   \n",
            "28                   -0.0187                    -0.09%   \n",
            "29                    0.4450                     0.38%   \n",
            "30                     -0.15                    -0.02%   \n",
            "\n",
            "                           4  \n",
            "0   全球匯率 (Currency Exchange)  \n",
            "1                         台北  \n",
            "2                      00:50  \n",
            "3                      00:50  \n",
            "4                      00:50  \n",
            "5                      00:50  \n",
            "6                      00:50  \n",
            "7                      00:50  \n",
            "8                      00:50  \n",
            "9                      00:50  \n",
            "10                     00:50  \n",
            "11                     00:50  \n",
            "12                     00:50  \n",
            "13                     00:50  \n",
            "14                     00:50  \n",
            "15                     00:50  \n",
            "16                     00:50  \n",
            "17                     00:50  \n",
            "18                     00:50  \n",
            "19                     00:50  \n",
            "20                     00:21  \n",
            "21                     00:50  \n",
            "22                     00:49  \n",
            "23                     05/13  \n",
            "24                     05/13  \n",
            "25                     00:50  \n",
            "26                     00:50  \n",
            "27                     00:50  \n",
            "28                     00:50  \n",
            "29                     00:42  \n",
            "30                     00:50  ,                                                    0\n",
            "0  (adsbygoogle = window.adsbygoogle || []).push(...,                                                    0\n",
            "0  疫苗護照  | 中油油價  | 12星座分析  | 行動網站  | 借錢救急 | Outle...\n",
            "1  全球股市指數 / 国际股市指数 / World Indices / Мировые инде...]\n"
          ]
        }
      ]
    },
    {
      "cell_type": "code",
      "source": [
        "# ch4_80.py\n",
        "import pandas as pd\n",
        "\n",
        "url = 'http://www.stockq.org/market/currency.php'\n",
        "currencys = pd.read_html(url)         # 讀取全球匯率行情表\n",
        "\n",
        "item = 0\n",
        "for currency in currencys:\n",
        "    print(\"元素 : \", item)            # 列出元素編號\n",
        "    print(currency)                   # 列出元素內容\n",
        "    print()\n",
        "    item += 1\n",
        "\n",
        "    "
      ],
      "metadata": {
        "colab": {
          "base_uri": "https://localhost:8080/"
        },
        "id": "S8DxWlxLoggU",
        "outputId": "9c0f6973-15e7-435e-e1dd-67257a57135f"
      },
      "execution_count": null,
      "outputs": [
        {
          "output_type": "stream",
          "name": "stdout",
          "text": [
            "元素 :  0\n",
            "                                                   0\n",
            "0  (adsbygoogle = window.adsbygoogle || []).push(...\n",
            "\n",
            "元素 :  1\n",
            "                                                   0\n",
            "0  (adsbygoogle = window.adsbygoogle || []).push(...\n",
            "1  首頁 市場動態 歷史股價 基金淨值 基金分類 全球經濟數據 行事曆  期貨報告  銀行匯率 ...\n",
            "\n",
            "元素 :  2\n",
            "    0                                                  1\n",
            "0 NaN  (adsbygoogle = window.adsbygoogle || []).push(...\n",
            "\n",
            "元素 :  3\n",
            "                                                   0     1\n",
            "0  首頁 市場動態 歷史股價 基金淨值 基金分類 全球經濟數據 行事曆  期貨報告  銀行匯率 ...  简体中文\n",
            "\n",
            "元素 :  4\n",
            "                                                   0  \\\n",
            "0  市場動態 全球股市排行榜 相對低檔股市指數 相對高檔股市指數 各國股市 亞洲股市指數 歐洲股...   \n",
            "\n",
            "                                                   1  \n",
            "0  全球貨幣匯率 2022/5/17 00:52:10  全球匯率 (Currency Exch...  \n",
            "\n",
            "元素 :  5\n",
            "                                                   0\n",
            "0  市場動態 全球股市排行榜 相對低檔股市指數 相對高檔股市指數 各國股市 亞洲股市指數 歐洲股...\n",
            "\n",
            "元素 :  6\n",
            "                           0   1\n",
            "0  全球貨幣匯率 2022/5/17 00:52:10 NaN\n",
            "\n",
            "元素 :  7\n",
            "                           0                         1  \\\n",
            "0   全球匯率 (Currency Exchange)  全球匯率 (Currency Exchange)   \n",
            "1                         貨幣                        匯率   \n",
            "2                      歐元/美元                    1.0425   \n",
            "3                      英鎊/美元                    1.2279   \n",
            "4                    美元/瑞士法郎                    1.0024   \n",
            "5                    美元/瑞典克朗                   10.0662   \n",
            "6                   美元/俄羅斯盧布                   63.4000   \n",
            "7                    美元/烏克蘭幣                   29.5400   \n",
            "8                    美元/匈牙利幣                    374.47   \n",
            "9                    美元/土耳其幣                   15.5297   \n",
            "10                    美元/南非幣                   16.1947   \n",
            "11                   美元/以色列幣                    3.3897   \n",
            "12                    美元/摩洛哥                   10.0872   \n",
            "13                     澳幣/美元                    0.6946   \n",
            "14                     紐幣/美元                    0.6285   \n",
            "15                     美元/日圓                    129.09   \n",
            "16                    美元/人民幣                    6.7852   \n",
            "17                     美元/港幣                    7.8497   \n",
            "18                     美元/台幣                    29.782   \n",
            "19                     美元/韓圜                   1281.07   \n",
            "20                     美元/泰銖                    34.740   \n",
            "21                     美元/新元                    1.3932   \n",
            "22                    美元/菲披索                    52.485   \n",
            "23                    美元/馬來幣                    4.3960   \n",
            "24                    美元/印尼盾                   14610.0   \n",
            "25                   美元/印度盧比                    77.838   \n",
            "26                     美元/加幣                    1.2882   \n",
            "27                    美元/巴西幣                    5.0891   \n",
            "28                  美元/墨西哥披索                   20.0567   \n",
            "29                    美元/阿根廷                  117.8600   \n",
            "30                     美元/智利                    859.30   \n",
            "\n",
            "                           2                         3  \\\n",
            "0   全球匯率 (Currency Exchange)  全球匯率 (Currency Exchange)   \n",
            "1                         漲跌                        比例   \n",
            "2                     0.0016                     0.15%   \n",
            "3                     0.0019                     0.15%   \n",
            "4                     0.0009                     0.09%   \n",
            "5                     0.0096                     0.10%   \n",
            "6                    -1.1450                    -1.77%   \n",
            "7                     0.0037                     0.01%   \n",
            "8                       4.39                     1.19%   \n",
            "9                     0.0544                     0.35%   \n",
            "10                    0.0443                     0.27%   \n",
            "11                   -0.0102                    -0.30%   \n",
            "12                   -0.0314                    -0.31%   \n",
            "13                    0.0008                     0.12%   \n",
            "14                    0.0003                     0.06%   \n",
            "15                     -0.09                    -0.07%   \n",
            "16                   -0.0028                    -0.04%   \n",
            "17                   -0.0001                    -0.00%   \n",
            "18                     0.005                     0.02%   \n",
            "19                      3.51                     0.27%   \n",
            "20                     0.050                     0.14%   \n",
            "21                    0.0010                     0.07%   \n",
            "22                     0.125                     0.24%   \n",
            "23                    0.0000                     0.00%   \n",
            "24                       0.0                     0.00%   \n",
            "25                     0.352                     0.45%   \n",
            "26                   -0.0024                    -0.19%   \n",
            "27                    0.0293                     0.58%   \n",
            "28                   -0.0187                    -0.09%   \n",
            "29                    0.4450                     0.38%   \n",
            "30                     -0.15                    -0.02%   \n",
            "\n",
            "                           4  \n",
            "0   全球匯率 (Currency Exchange)  \n",
            "1                         台北  \n",
            "2                      00:50  \n",
            "3                      00:50  \n",
            "4                      00:50  \n",
            "5                      00:50  \n",
            "6                      00:50  \n",
            "7                      00:50  \n",
            "8                      00:50  \n",
            "9                      00:50  \n",
            "10                     00:50  \n",
            "11                     00:50  \n",
            "12                     00:50  \n",
            "13                     00:50  \n",
            "14                     00:50  \n",
            "15                     00:50  \n",
            "16                     00:50  \n",
            "17                     00:50  \n",
            "18                     00:50  \n",
            "19                     00:50  \n",
            "20                     00:21  \n",
            "21                     00:50  \n",
            "22                     00:49  \n",
            "23                     05/13  \n",
            "24                     05/13  \n",
            "25                     00:50  \n",
            "26                     00:50  \n",
            "27                     00:50  \n",
            "28                     00:50  \n",
            "29                     00:42  \n",
            "30                     00:50  \n",
            "\n",
            "元素 :  8\n",
            "                                                   0\n",
            "0  (adsbygoogle = window.adsbygoogle || []).push(...\n",
            "\n",
            "元素 :  9\n",
            "                                                   0\n",
            "0  疫苗護照  | 中油油價  | 12星座分析  | 行動網站  | 借錢救急 | Outle...\n",
            "1  全球股市指數 / 国际股市指数 / World Indices / Мировые инде...\n",
            "\n"
          ]
        }
      ]
    },
    {
      "cell_type": "code",
      "source": [
        "# ch4_81.py\n",
        "import pandas as pd\n",
        "\n",
        "url = 'http://www.stockq.org/market/currency.php'\n",
        "currencys = pd.read_html(url)                               # 讀取全球匯率行情表\n",
        "\n",
        "currency = currencys[7]                                     # 讀取第7元素\n",
        "currency = currency.drop(currency.index[[0,1]])             # 拋棄前2 row\n",
        "currency.columns = ['貨幣', '匯率', '漲跌', '比例', '台北'] # 建立column標題\n",
        "currency.index = range(len(currency.index))                 # 建立row標題\n",
        "print(currency)\n",
        "\n",
        "\n",
        "# df = pd.DataFrame(currency, columns = course, index = range(1,6))\n",
        "df = pd.DataFrame(currency)\n",
        "df.to_csv(\"out4_81a.csv\")\n",
        "df.to_csv(\"out4_81b.csv\", header=False, index=False)\n",
        "df.to_csv(\"out4_81c.csv\", index=False)\n",
        "\n",
        "x = pd.read_csv(\"out4_81a.csv\",index_col=0)\n",
        "y = pd.read_csv(\"out4_81b.csv\",names=currency.columns)\n",
        "y = pd.read_csv(\"out4_81c.csv\")\n",
        "\n",
        "print(y)\n",
        "    \n"
      ],
      "metadata": {
        "colab": {
          "base_uri": "https://localhost:8080/"
        },
        "id": "TL8h4gc2olPa",
        "outputId": "62f43446-f402-42e0-d4d8-387eebafc5b9"
      },
      "execution_count": null,
      "outputs": [
        {
          "output_type": "stream",
          "name": "stdout",
          "text": [
            "          貨幣        匯率       漲跌      比例     台北\n",
            "0      歐元/美元    1.0425   0.0016   0.15%  00:50\n",
            "1      英鎊/美元    1.2279   0.0019   0.15%  00:50\n",
            "2    美元/瑞士法郎    1.0024   0.0009   0.09%  00:50\n",
            "3    美元/瑞典克朗   10.0662   0.0096   0.10%  00:50\n",
            "4   美元/俄羅斯盧布   63.4000  -1.1450  -1.77%  00:50\n",
            "5    美元/烏克蘭幣   29.5400   0.0037   0.01%  00:50\n",
            "6    美元/匈牙利幣    374.47     4.39   1.19%  00:50\n",
            "7    美元/土耳其幣   15.5297   0.0544   0.35%  00:50\n",
            "8     美元/南非幣   16.1947   0.0443   0.27%  00:50\n",
            "9    美元/以色列幣    3.3897  -0.0102  -0.30%  00:50\n",
            "10    美元/摩洛哥   10.0872  -0.0314  -0.31%  00:50\n",
            "11     澳幣/美元    0.6946   0.0008   0.12%  00:50\n",
            "12     紐幣/美元    0.6285   0.0003   0.06%  00:50\n",
            "13     美元/日圓    129.09    -0.09  -0.07%  00:50\n",
            "14    美元/人民幣    6.7852  -0.0028  -0.04%  00:50\n",
            "15     美元/港幣    7.8497  -0.0001  -0.00%  00:50\n",
            "16     美元/台幣    29.782    0.005   0.02%  00:50\n",
            "17     美元/韓圜   1281.07     3.51   0.27%  00:50\n",
            "18     美元/泰銖    34.740    0.050   0.14%  00:21\n",
            "19     美元/新元    1.3932   0.0010   0.07%  00:50\n",
            "20    美元/菲披索    52.485    0.125   0.24%  00:49\n",
            "21    美元/馬來幣    4.3960   0.0000   0.00%  05/13\n",
            "22    美元/印尼盾   14610.0      0.0   0.00%  05/13\n",
            "23   美元/印度盧比    77.838    0.352   0.45%  00:50\n",
            "24     美元/加幣    1.2882  -0.0024  -0.19%  00:50\n",
            "25    美元/巴西幣    5.0891   0.0293   0.58%  00:50\n",
            "26  美元/墨西哥披索   20.0567  -0.0187  -0.09%  00:50\n",
            "27    美元/阿根廷  117.8600   0.4450   0.38%  00:42\n",
            "28     美元/智利    859.30    -0.15  -0.02%  00:50\n",
            "          貨幣          匯率      漲跌      比例     台北\n",
            "0      歐元/美元      1.0425  0.0016   0.15%  00:50\n",
            "1      英鎊/美元      1.2279  0.0019   0.15%  00:50\n",
            "2    美元/瑞士法郎      1.0024  0.0009   0.09%  00:50\n",
            "3    美元/瑞典克朗     10.0662  0.0096   0.10%  00:50\n",
            "4   美元/俄羅斯盧布     63.4000 -1.1450  -1.77%  00:50\n",
            "5    美元/烏克蘭幣     29.5400  0.0037   0.01%  00:50\n",
            "6    美元/匈牙利幣    374.4700  4.3900   1.19%  00:50\n",
            "7    美元/土耳其幣     15.5297  0.0544   0.35%  00:50\n",
            "8     美元/南非幣     16.1947  0.0443   0.27%  00:50\n",
            "9    美元/以色列幣      3.3897 -0.0102  -0.30%  00:50\n",
            "10    美元/摩洛哥     10.0872 -0.0314  -0.31%  00:50\n",
            "11     澳幣/美元      0.6946  0.0008   0.12%  00:50\n",
            "12     紐幣/美元      0.6285  0.0003   0.06%  00:50\n",
            "13     美元/日圓    129.0900 -0.0900  -0.07%  00:50\n",
            "14    美元/人民幣      6.7852 -0.0028  -0.04%  00:50\n",
            "15     美元/港幣      7.8497 -0.0001  -0.00%  00:50\n",
            "16     美元/台幣     29.7820  0.0050   0.02%  00:50\n",
            "17     美元/韓圜   1281.0700  3.5100   0.27%  00:50\n",
            "18     美元/泰銖     34.7400  0.0500   0.14%  00:21\n",
            "19     美元/新元      1.3932  0.0010   0.07%  00:50\n",
            "20    美元/菲披索     52.4850  0.1250   0.24%  00:49\n",
            "21    美元/馬來幣      4.3960  0.0000   0.00%  05/13\n",
            "22    美元/印尼盾  14610.0000  0.0000   0.00%  05/13\n",
            "23   美元/印度盧比     77.8380  0.3520   0.45%  00:50\n",
            "24     美元/加幣      1.2882 -0.0024  -0.19%  00:50\n",
            "25    美元/巴西幣      5.0891  0.0293   0.58%  00:50\n",
            "26  美元/墨西哥披索     20.0567 -0.0187  -0.09%  00:50\n",
            "27    美元/阿根廷    117.8600  0.4450   0.38%  00:42\n",
            "28     美元/智利    859.3000 -0.1500  -0.02%  00:50\n"
          ]
        }
      ]
    }
  ]
}